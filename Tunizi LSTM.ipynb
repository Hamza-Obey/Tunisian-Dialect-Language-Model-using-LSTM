{
  "cells": [
    {
      "cell_type": "code",
      "execution_count": null,
      "id": "KYjVSwwoz8ow",
      "metadata": {
        "id": "KYjVSwwoz8ow"
      },
      "outputs": [],
      "source": [
        "import numpy as np \n",
        "import pandas as pd \n",
        "\n",
        "# text processing libraries\n",
        "import re\n",
        "import string\n",
        "import nltk\n",
        "from nltk.corpus import stopwords\n",
        "\n",
        "# matplotlib and seaborn for plotting\n",
        "import matplotlib.pyplot as plt\n",
        "import seaborn as sns\n",
        "\n",
        "import warnings \n",
        "warnings.filterwarnings(\"ignore\")\n"
      ]
    },
    {
      "cell_type": "markdown",
      "id": "emI4l3sdz8pD",
      "metadata": {
        "id": "emI4l3sdz8pD"
      },
      "source": [
        "# Uploading train set and test set"
      ]
    },
    {
      "cell_type": "code",
      "execution_count": null,
      "id": "e2J9KaQZ0kG1",
      "metadata": {
        "colab": {
          "base_uri": "https://localhost:8080/"
        },
        "id": "e2J9KaQZ0kG1",
        "outputId": "9d53a306-8a9b-4612-d5e9-c6de2079b7a9"
      },
      "outputs": [
        {
          "name": "stdout",
          "output_type": "stream",
          "text": [
            "Mounted at /content/drive\n"
          ]
        }
      ],
      "source": [
        "from google.colab import drive\n",
        "drive.mount('/content/drive')"
      ]
    },
    {
      "cell_type": "code",
      "execution_count": null,
      "id": "xl6SpE7mz8pL",
      "metadata": {
        "colab": {
          "base_uri": "https://localhost:8080/"
        },
        "id": "xl6SpE7mz8pL",
        "outputId": "e4f9e1a8-8e81-45d9-defc-96cade75681c"
      },
      "outputs": [
        {
          "name": "stdout",
          "output_type": "stream",
          "text": [
            "Train data shape:  (70000, 3) and test data shape is (30000, 2)\n"
          ]
        }
      ],
      "source": [
        "#Training data\n",
        "train = pd.read_csv('/content/drive/MyDrive/data/Train.csv')\n",
        "test = pd.read_csv('/content/drive/MyDrive/data/Test.csv')\n",
        "print('Train data shape: ', train.shape ,\"and test data shape is\",test.shape)\n"
      ]
    },
    {
      "cell_type": "code",
      "execution_count": null,
      "id": "HliOQFB9z8pP",
      "metadata": {
        "colab": {
          "base_uri": "https://localhost:8080/",
          "height": 520
        },
        "id": "HliOQFB9z8pP",
        "outputId": "34ede3a6-c6be-474e-fa76-1974dd471ad9"
      },
      "outputs": [
        {
          "data": {
            "text/html": [
              "\n",
              "  <div id=\"df-c9923a2a-33d8-4514-9fb1-27041c269c29\">\n",
              "    <div class=\"colab-df-container\">\n",
              "      <div>\n",
              "<style scoped>\n",
              "    .dataframe tbody tr th:only-of-type {\n",
              "        vertical-align: middle;\n",
              "    }\n",
              "\n",
              "    .dataframe tbody tr th {\n",
              "        vertical-align: top;\n",
              "    }\n",
              "\n",
              "    .dataframe thead th {\n",
              "        text-align: right;\n",
              "    }\n",
              "</style>\n",
              "<table border=\"1\" class=\"dataframe\">\n",
              "  <thead>\n",
              "    <tr style=\"text-align: right;\">\n",
              "      <th></th>\n",
              "      <th>ID</th>\n",
              "      <th>text</th>\n",
              "      <th>label</th>\n",
              "    </tr>\n",
              "  </thead>\n",
              "  <tbody>\n",
              "    <tr>\n",
              "      <th>6670</th>\n",
              "      <td>2ALVE9S</td>\n",
              "      <td>3idek mabrouk wsnine deyma mr le president</td>\n",
              "      <td>1</td>\n",
              "    </tr>\n",
              "    <tr>\n",
              "      <th>49567</th>\n",
              "      <td>F79SPUZ</td>\n",
              "      <td>ba3dek zayed</td>\n",
              "      <td>1</td>\n",
              "    </tr>\n",
              "    <tr>\n",
              "      <th>50796</th>\n",
              "      <td>KUJG65Q</td>\n",
              "      <td>thaanou ya twenssaa jma33eet ettebssi w rcd ra...</td>\n",
              "      <td>1</td>\n",
              "    </tr>\n",
              "    <tr>\n",
              "      <th>22310</th>\n",
              "      <td>ZFEJAUX</td>\n",
              "      <td>tres belle music mon frere</td>\n",
              "      <td>1</td>\n",
              "    </tr>\n",
              "    <tr>\n",
              "      <th>54037</th>\n",
              "      <td>JVWDYAR</td>\n",
              "      <td>chb 7achek ama 3onsourya ltahki aliha lbehi we...</td>\n",
              "      <td>-1</td>\n",
              "    </tr>\n",
              "    <tr>\n",
              "      <th>6869</th>\n",
              "      <td>XAXZYM5</td>\n",
              "      <td>ana mkachakh mais slim eryahi 3wen barchhh ca ...</td>\n",
              "      <td>1</td>\n",
              "    </tr>\n",
              "    <tr>\n",
              "      <th>13601</th>\n",
              "      <td>VI3S9OS</td>\n",
              "      <td>tawou tereb7ou el3aaaasssssbbbbaaaa</td>\n",
              "      <td>-1</td>\n",
              "    </tr>\n",
              "    <tr>\n",
              "      <th>3271</th>\n",
              "      <td>V36XWH5</td>\n",
              "      <td>farhanin barcha bichoix nabil oildna oi nosbro...</td>\n",
              "      <td>1</td>\n",
              "    </tr>\n",
              "    <tr>\n",
              "      <th>12647</th>\n",
              "      <td>ESHO33Q</td>\n",
              "      <td>je m appelle fersi mounir</td>\n",
              "      <td>0</td>\n",
              "    </tr>\n",
              "    <tr>\n",
              "      <th>13931</th>\n",
              "      <td>G3OLHTE</td>\n",
              "      <td>haka chna9esha l botoula 7ata hya ken bouzid</td>\n",
              "      <td>-1</td>\n",
              "    </tr>\n",
              "    <tr>\n",
              "      <th>27896</th>\n",
              "      <td>9MRZUAG</td>\n",
              "      <td>rabby yar7mik ya zgaw</td>\n",
              "      <td>1</td>\n",
              "    </tr>\n",
              "    <tr>\n",
              "      <th>42115</th>\n",
              "      <td>JW4CYIQ</td>\n",
              "      <td>bilehi ya si slim le tjebna elkanzari 5atrou m...</td>\n",
              "      <td>-1</td>\n",
              "    </tr>\n",
              "    <tr>\n",
              "      <th>17572</th>\n",
              "      <td>FP77VXY</td>\n",
              "      <td>inchallah 3idak mabrouk snin deyme</td>\n",
              "      <td>1</td>\n",
              "    </tr>\n",
              "    <tr>\n",
              "      <th>63407</th>\n",
              "      <td>QYLLIF7</td>\n",
              "      <td>belehi el mrewel el zro9 el jdod wesslou ll parc</td>\n",
              "      <td>1</td>\n",
              "    </tr>\n",
              "    <tr>\n",
              "      <th>55515</th>\n",
              "      <td>RVAMMET</td>\n",
              "      <td>rais lik inti wa7dek</td>\n",
              "      <td>1</td>\n",
              "    </tr>\n",
              "  </tbody>\n",
              "</table>\n",
              "</div>\n",
              "      <button class=\"colab-df-convert\" onclick=\"convertToInteractive('df-c9923a2a-33d8-4514-9fb1-27041c269c29')\"\n",
              "              title=\"Convert this dataframe to an interactive table.\"\n",
              "              style=\"display:none;\">\n",
              "        \n",
              "  <svg xmlns=\"http://www.w3.org/2000/svg\" height=\"24px\"viewBox=\"0 0 24 24\"\n",
              "       width=\"24px\">\n",
              "    <path d=\"M0 0h24v24H0V0z\" fill=\"none\"/>\n",
              "    <path d=\"M18.56 5.44l.94 2.06.94-2.06 2.06-.94-2.06-.94-.94-2.06-.94 2.06-2.06.94zm-11 1L8.5 8.5l.94-2.06 2.06-.94-2.06-.94L8.5 2.5l-.94 2.06-2.06.94zm10 10l.94 2.06.94-2.06 2.06-.94-2.06-.94-.94-2.06-.94 2.06-2.06.94z\"/><path d=\"M17.41 7.96l-1.37-1.37c-.4-.4-.92-.59-1.43-.59-.52 0-1.04.2-1.43.59L10.3 9.45l-7.72 7.72c-.78.78-.78 2.05 0 2.83L4 21.41c.39.39.9.59 1.41.59.51 0 1.02-.2 1.41-.59l7.78-7.78 2.81-2.81c.8-.78.8-2.07 0-2.86zM5.41 20L4 18.59l7.72-7.72 1.47 1.35L5.41 20z\"/>\n",
              "  </svg>\n",
              "      </button>\n",
              "      \n",
              "  <style>\n",
              "    .colab-df-container {\n",
              "      display:flex;\n",
              "      flex-wrap:wrap;\n",
              "      gap: 12px;\n",
              "    }\n",
              "\n",
              "    .colab-df-convert {\n",
              "      background-color: #E8F0FE;\n",
              "      border: none;\n",
              "      border-radius: 50%;\n",
              "      cursor: pointer;\n",
              "      display: none;\n",
              "      fill: #1967D2;\n",
              "      height: 32px;\n",
              "      padding: 0 0 0 0;\n",
              "      width: 32px;\n",
              "    }\n",
              "\n",
              "    .colab-df-convert:hover {\n",
              "      background-color: #E2EBFA;\n",
              "      box-shadow: 0px 1px 2px rgba(60, 64, 67, 0.3), 0px 1px 3px 1px rgba(60, 64, 67, 0.15);\n",
              "      fill: #174EA6;\n",
              "    }\n",
              "\n",
              "    [theme=dark] .colab-df-convert {\n",
              "      background-color: #3B4455;\n",
              "      fill: #D2E3FC;\n",
              "    }\n",
              "\n",
              "    [theme=dark] .colab-df-convert:hover {\n",
              "      background-color: #434B5C;\n",
              "      box-shadow: 0px 1px 3px 1px rgba(0, 0, 0, 0.15);\n",
              "      filter: drop-shadow(0px 1px 2px rgba(0, 0, 0, 0.3));\n",
              "      fill: #FFFFFF;\n",
              "    }\n",
              "  </style>\n",
              "\n",
              "      <script>\n",
              "        const buttonEl =\n",
              "          document.querySelector('#df-c9923a2a-33d8-4514-9fb1-27041c269c29 button.colab-df-convert');\n",
              "        buttonEl.style.display =\n",
              "          google.colab.kernel.accessAllowed ? 'block' : 'none';\n",
              "\n",
              "        async function convertToInteractive(key) {\n",
              "          const element = document.querySelector('#df-c9923a2a-33d8-4514-9fb1-27041c269c29');\n",
              "          const dataTable =\n",
              "            await google.colab.kernel.invokeFunction('convertToInteractive',\n",
              "                                                     [key], {});\n",
              "          if (!dataTable) return;\n",
              "\n",
              "          const docLinkHtml = 'Like what you see? Visit the ' +\n",
              "            '<a target=\"_blank\" href=https://colab.research.google.com/notebooks/data_table.ipynb>data table notebook</a>'\n",
              "            + ' to learn more about interactive tables.';\n",
              "          element.innerHTML = '';\n",
              "          dataTable['output_type'] = 'display_data';\n",
              "          await google.colab.output.renderOutput(dataTable, element);\n",
              "          const docLink = document.createElement('div');\n",
              "          docLink.innerHTML = docLinkHtml;\n",
              "          element.appendChild(docLink);\n",
              "        }\n",
              "      </script>\n",
              "    </div>\n",
              "  </div>\n",
              "  "
            ],
            "text/plain": [
              "            ID                                               text  label\n",
              "6670   2ALVE9S         3idek mabrouk wsnine deyma mr le president      1\n",
              "49567  F79SPUZ                                       ba3dek zayed      1\n",
              "50796  KUJG65Q  thaanou ya twenssaa jma33eet ettebssi w rcd ra...      1\n",
              "22310  ZFEJAUX                         tres belle music mon frere      1\n",
              "54037  JVWDYAR  chb 7achek ama 3onsourya ltahki aliha lbehi we...     -1\n",
              "6869   XAXZYM5  ana mkachakh mais slim eryahi 3wen barchhh ca ...      1\n",
              "13601  VI3S9OS                tawou tereb7ou el3aaaasssssbbbbaaaa     -1\n",
              "3271   V36XWH5  farhanin barcha bichoix nabil oildna oi nosbro...      1\n",
              "12647  ESHO33Q                          je m appelle fersi mounir      0\n",
              "13931  G3OLHTE       haka chna9esha l botoula 7ata hya ken bouzid     -1\n",
              "27896  9MRZUAG                              rabby yar7mik ya zgaw      1\n",
              "42115  JW4CYIQ  bilehi ya si slim le tjebna elkanzari 5atrou m...     -1\n",
              "17572  FP77VXY                 inchallah 3idak mabrouk snin deyme      1\n",
              "63407  QYLLIF7   belehi el mrewel el zro9 el jdod wesslou ll parc      1\n",
              "55515  RVAMMET                               rais lik inti wa7dek      1"
            ]
          },
          "execution_count": 4,
          "metadata": {},
          "output_type": "execute_result"
        }
      ],
      "source": [
        "train.sample(15,random_state=1)\n"
      ]
    },
    {
      "cell_type": "code",
      "execution_count": null,
      "id": "AQJ5nILLz8pS",
      "metadata": {
        "colab": {
          "base_uri": "https://localhost:8080/",
          "height": 520
        },
        "id": "AQJ5nILLz8pS",
        "outputId": "1383c449-7d29-44c0-cbba-c9548997e398"
      },
      "outputs": [
        {
          "data": {
            "text/html": [
              "\n",
              "  <div id=\"df-936ea49f-e84e-4662-a66a-2606f903e208\">\n",
              "    <div class=\"colab-df-container\">\n",
              "      <div>\n",
              "<style scoped>\n",
              "    .dataframe tbody tr th:only-of-type {\n",
              "        vertical-align: middle;\n",
              "    }\n",
              "\n",
              "    .dataframe tbody tr th {\n",
              "        vertical-align: top;\n",
              "    }\n",
              "\n",
              "    .dataframe thead th {\n",
              "        text-align: right;\n",
              "    }\n",
              "</style>\n",
              "<table border=\"1\" class=\"dataframe\">\n",
              "  <thead>\n",
              "    <tr style=\"text-align: right;\">\n",
              "      <th></th>\n",
              "      <th>ID</th>\n",
              "      <th>text</th>\n",
              "    </tr>\n",
              "  </thead>\n",
              "  <tbody>\n",
              "    <tr>\n",
              "      <th>10747</th>\n",
              "      <td>NDPW3HP</td>\n",
              "      <td>alah yar7em omkom</td>\n",
              "    </tr>\n",
              "    <tr>\n",
              "      <th>12573</th>\n",
              "      <td>GXRZAGE</td>\n",
              "      <td>kol 3am winti 7aie bkhir wild 3ami si slim</td>\n",
              "    </tr>\n",
              "    <tr>\n",
              "      <th>29676</th>\n",
              "      <td>6783N40</td>\n",
              "      <td>enti sraft sraft karék chrit tour effel ya slo...</td>\n",
              "    </tr>\n",
              "    <tr>\n",
              "      <th>8856</th>\n",
              "      <td>IOYPDFJ</td>\n",
              "      <td>era2iss mouch ken t7awell el 3ayilt echahid 3a...</td>\n",
              "    </tr>\n",
              "    <tr>\n",
              "      <th>21098</th>\n",
              "      <td>J71HOMA</td>\n",
              "      <td>brave homme djafer bravo mr djafer de tizi ouzou</td>\n",
              "    </tr>\n",
              "    <tr>\n",
              "      <th>17458</th>\n",
              "      <td>OE1V7FS</td>\n",
              "      <td>wwwww belle chanson j adore</td>\n",
              "    </tr>\n",
              "    <tr>\n",
              "      <th>1476</th>\n",
              "      <td>VJVA15F</td>\n",
              "      <td>ena 3andi talab wa7id madhabeya traj3elna osem...</td>\n",
              "    </tr>\n",
              "    <tr>\n",
              "      <th>5120</th>\n",
              "      <td>0G7BAD0</td>\n",
              "      <td>andhaf wa achraf hezeb</td>\n",
              "    </tr>\n",
              "    <tr>\n",
              "      <th>18338</th>\n",
              "      <td>NLFS3SU</td>\n",
              "      <td>eli 9olt el kol s7i7 boss ena m3ak</td>\n",
              "    </tr>\n",
              "    <tr>\n",
              "      <th>28279</th>\n",
              "      <td>QKNKX6E</td>\n",
              "      <td>si thabthoub barra rajaa flous gaddafi wa saye...</td>\n",
              "    </tr>\n",
              "    <tr>\n",
              "      <th>1684</th>\n",
              "      <td>VARG9CC</td>\n",
              "      <td>tickets loge à vendre</td>\n",
              "    </tr>\n",
              "    <tr>\n",
              "      <th>20371</th>\n",
              "      <td>10U5PXX</td>\n",
              "      <td>zazarr y3adhm 3la mregzyy</td>\n",
              "    </tr>\n",
              "    <tr>\n",
              "      <th>3608</th>\n",
              "      <td>K0H96CU</td>\n",
              "      <td>ma fi balekch rak fi tunis</td>\n",
              "    </tr>\n",
              "    <tr>\n",
              "      <th>13012</th>\n",
              "      <td>02G536K</td>\n",
              "      <td>sans commentaire malla 3efrit ti haw kamelha e...</td>\n",
              "    </tr>\n",
              "    <tr>\n",
              "      <th>6793</th>\n",
              "      <td>WKD1RFU</td>\n",
              "      <td>kol3amwanta b1000 5ir 5oya</td>\n",
              "    </tr>\n",
              "  </tbody>\n",
              "</table>\n",
              "</div>\n",
              "      <button class=\"colab-df-convert\" onclick=\"convertToInteractive('df-936ea49f-e84e-4662-a66a-2606f903e208')\"\n",
              "              title=\"Convert this dataframe to an interactive table.\"\n",
              "              style=\"display:none;\">\n",
              "        \n",
              "  <svg xmlns=\"http://www.w3.org/2000/svg\" height=\"24px\"viewBox=\"0 0 24 24\"\n",
              "       width=\"24px\">\n",
              "    <path d=\"M0 0h24v24H0V0z\" fill=\"none\"/>\n",
              "    <path d=\"M18.56 5.44l.94 2.06.94-2.06 2.06-.94-2.06-.94-.94-2.06-.94 2.06-2.06.94zm-11 1L8.5 8.5l.94-2.06 2.06-.94-2.06-.94L8.5 2.5l-.94 2.06-2.06.94zm10 10l.94 2.06.94-2.06 2.06-.94-2.06-.94-.94-2.06-.94 2.06-2.06.94z\"/><path d=\"M17.41 7.96l-1.37-1.37c-.4-.4-.92-.59-1.43-.59-.52 0-1.04.2-1.43.59L10.3 9.45l-7.72 7.72c-.78.78-.78 2.05 0 2.83L4 21.41c.39.39.9.59 1.41.59.51 0 1.02-.2 1.41-.59l7.78-7.78 2.81-2.81c.8-.78.8-2.07 0-2.86zM5.41 20L4 18.59l7.72-7.72 1.47 1.35L5.41 20z\"/>\n",
              "  </svg>\n",
              "      </button>\n",
              "      \n",
              "  <style>\n",
              "    .colab-df-container {\n",
              "      display:flex;\n",
              "      flex-wrap:wrap;\n",
              "      gap: 12px;\n",
              "    }\n",
              "\n",
              "    .colab-df-convert {\n",
              "      background-color: #E8F0FE;\n",
              "      border: none;\n",
              "      border-radius: 50%;\n",
              "      cursor: pointer;\n",
              "      display: none;\n",
              "      fill: #1967D2;\n",
              "      height: 32px;\n",
              "      padding: 0 0 0 0;\n",
              "      width: 32px;\n",
              "    }\n",
              "\n",
              "    .colab-df-convert:hover {\n",
              "      background-color: #E2EBFA;\n",
              "      box-shadow: 0px 1px 2px rgba(60, 64, 67, 0.3), 0px 1px 3px 1px rgba(60, 64, 67, 0.15);\n",
              "      fill: #174EA6;\n",
              "    }\n",
              "\n",
              "    [theme=dark] .colab-df-convert {\n",
              "      background-color: #3B4455;\n",
              "      fill: #D2E3FC;\n",
              "    }\n",
              "\n",
              "    [theme=dark] .colab-df-convert:hover {\n",
              "      background-color: #434B5C;\n",
              "      box-shadow: 0px 1px 3px 1px rgba(0, 0, 0, 0.15);\n",
              "      filter: drop-shadow(0px 1px 2px rgba(0, 0, 0, 0.3));\n",
              "      fill: #FFFFFF;\n",
              "    }\n",
              "  </style>\n",
              "\n",
              "      <script>\n",
              "        const buttonEl =\n",
              "          document.querySelector('#df-936ea49f-e84e-4662-a66a-2606f903e208 button.colab-df-convert');\n",
              "        buttonEl.style.display =\n",
              "          google.colab.kernel.accessAllowed ? 'block' : 'none';\n",
              "\n",
              "        async function convertToInteractive(key) {\n",
              "          const element = document.querySelector('#df-936ea49f-e84e-4662-a66a-2606f903e208');\n",
              "          const dataTable =\n",
              "            await google.colab.kernel.invokeFunction('convertToInteractive',\n",
              "                                                     [key], {});\n",
              "          if (!dataTable) return;\n",
              "\n",
              "          const docLinkHtml = 'Like what you see? Visit the ' +\n",
              "            '<a target=\"_blank\" href=https://colab.research.google.com/notebooks/data_table.ipynb>data table notebook</a>'\n",
              "            + ' to learn more about interactive tables.';\n",
              "          element.innerHTML = '';\n",
              "          dataTable['output_type'] = 'display_data';\n",
              "          await google.colab.output.renderOutput(dataTable, element);\n",
              "          const docLink = document.createElement('div');\n",
              "          docLink.innerHTML = docLinkHtml;\n",
              "          element.appendChild(docLink);\n",
              "        }\n",
              "      </script>\n",
              "    </div>\n",
              "  </div>\n",
              "  "
            ],
            "text/plain": [
              "            ID                                               text\n",
              "10747  NDPW3HP                                  alah yar7em omkom\n",
              "12573  GXRZAGE         kol 3am winti 7aie bkhir wild 3ami si slim\n",
              "29676  6783N40  enti sraft sraft karék chrit tour effel ya slo...\n",
              "8856   IOYPDFJ  era2iss mouch ken t7awell el 3ayilt echahid 3a...\n",
              "21098  J71HOMA   brave homme djafer bravo mr djafer de tizi ouzou\n",
              "17458  OE1V7FS                        wwwww belle chanson j adore\n",
              "1476   VJVA15F  ena 3andi talab wa7id madhabeya traj3elna osem...\n",
              "5120   0G7BAD0                             andhaf wa achraf hezeb\n",
              "18338  NLFS3SU                 eli 9olt el kol s7i7 boss ena m3ak\n",
              "28279  QKNKX6E  si thabthoub barra rajaa flous gaddafi wa saye...\n",
              "1684   VARG9CC                              tickets loge à vendre\n",
              "20371  10U5PXX                          zazarr y3adhm 3la mregzyy\n",
              "3608   K0H96CU                         ma fi balekch rak fi tunis\n",
              "13012  02G536K  sans commentaire malla 3efrit ti haw kamelha e...\n",
              "6793   WKD1RFU                         kol3amwanta b1000 5ir 5oya"
            ]
          },
          "execution_count": 5,
          "metadata": {},
          "output_type": "execute_result"
        }
      ],
      "source": [
        "test.sample(15,random_state=1)"
      ]
    },
    {
      "cell_type": "markdown",
      "id": "cf9BVnYHz8pU",
      "metadata": {
        "id": "cf9BVnYHz8pU"
      },
      "source": [
        "# Data Visualisation"
      ]
    },
    {
      "cell_type": "code",
      "execution_count": null,
      "id": "P0t23JjSz8pW",
      "metadata": {
        "colab": {
          "base_uri": "https://localhost:8080/",
          "height": 70
        },
        "id": "P0t23JjSz8pW",
        "outputId": "88024ccb-111b-4981-c880-cb510d19c42e"
      },
      "outputs": [
        {
          "data": {
            "application/vnd.google.colaboratory.intrinsic+json": {
              "type": "string"
            },
            "text/plain": [
              "'bereau degage nathef ya slim walahi ya7chiw fih jma3a lem3amel 3lihom walah kit jib messi lana3mlou chay 7amlet nathafa fil bureaux ca jam3iya 3ari9a mel 3am 94 bdet da5la fi 7it choufelna hal mochkla belehi te5na9na mel fada tous les équipe mergine fina ken jit kifek walah maye5lsouch wi3adiw 3am jaych bech yetrabaw elkoura fi se9ik enti en9eth jam3iya ya slim wna3ref tnajim ta3melha'"
            ]
          },
          "execution_count": 6,
          "metadata": {},
          "output_type": "execute_result"
        }
      ],
      "source": [
        "# negative sentiments\n",
        "negative_tweets = train[train['label']==-1]['text']\n",
        "negative_tweets.values[2]"
      ]
    },
    {
      "cell_type": "code",
      "execution_count": null,
      "id": "HDzh3Dnmz8pZ",
      "metadata": {
        "colab": {
          "base_uri": "https://localhost:8080/",
          "height": 36
        },
        "id": "HDzh3Dnmz8pZ",
        "outputId": "59284749-2042-441a-c7b4-2e9d01de62c6"
      },
      "outputs": [
        {
          "data": {
            "application/vnd.google.colaboratory.intrinsic+json": {
              "type": "string"
            },
            "text/plain": [
              "'mabrouk li tounes kolha bi monadhel felecitation congratulation auguri'"
            ]
          },
          "execution_count": 7,
          "metadata": {},
          "output_type": "execute_result"
        }
      ],
      "source": [
        "# positive sentiments\n",
        "neutral_tweets = train[train['label']==1]['text']\n",
        "neutral_tweets.values[5]"
      ]
    },
    {
      "cell_type": "code",
      "execution_count": null,
      "id": "z3GLx0xbz8pd",
      "metadata": {
        "colab": {
          "base_uri": "https://localhost:8080/",
          "height": 36
        },
        "id": "z3GLx0xbz8pd",
        "outputId": "018f7b57-f958-4fbe-f9b9-2dc6543bcef4"
      },
      "outputs": [
        {
          "data": {
            "application/vnd.google.colaboratory.intrinsic+json": {
              "type": "string"
            },
            "text/plain": [
              "'slm brabi kifeh enajmo enbadlo meken alinti5ab'"
            ]
          },
          "execution_count": 8,
          "metadata": {},
          "output_type": "execute_result"
        }
      ],
      "source": [
        "# neutral sentiments\n",
        "neutral_tweets = train[train['label']==0]['text']\n",
        "neutral_tweets.values[4]\n"
      ]
    },
    {
      "cell_type": "code",
      "execution_count": null,
      "id": "orUl-IIqz8ph",
      "metadata": {
        "colab": {
          "base_uri": "https://localhost:8080/"
        },
        "id": "orUl-IIqz8ph",
        "outputId": "6efb71d1-a8f2-4f03-f618-90736af19493"
      },
      "outputs": [
        {
          "name": "stdout",
          "output_type": "stream",
          "text": [
            " 1    38239\n",
            "-1    29295\n",
            " 0     2466\n",
            "Name: label, dtype: int64\n"
          ]
        }
      ],
      "source": [
        "#Distribution of the label Column\n",
        "print(train.label.value_counts())\n",
        "#not a good distribution"
      ]
    },
    {
      "cell_type": "code",
      "execution_count": null,
      "id": "uegdOPvEz8pj",
      "metadata": {
        "colab": {
          "base_uri": "https://localhost:8080/",
          "height": 286
        },
        "id": "uegdOPvEz8pj",
        "outputId": "0eb458e8-7818-4765-8e0b-d02da1ee8160",
        "scrolled": true
      },
      "outputs": [
        {
          "data": {
            "text/plain": [
              "<matplotlib.axes._subplots.AxesSubplot at 0x7f04cef1be10>"
            ]
          },
          "execution_count": 10,
          "metadata": {},
          "output_type": "execute_result"
        },
        {
          "data": {
            "image/png": "[encoded data removed]",
            "text/plain": [
              "<Figure size 432x288 with 1 Axes>"
            ]
          },
          "metadata": {
            "needs_background": "light"
          },
          "output_type": "display_data"
        }
      ],
      "source": [
        "\n",
        "#Using seaborn to visualize the #istribution of the label Column \n",
        "sns.barplot(train['label'].value_counts().index,train['label'].value_counts())"
      ]
    },
    {
      "cell_type": "markdown",
      "id": "9O4VSM88z8pl",
      "metadata": {
        "id": "9O4VSM88z8pl"
      },
      "source": [
        "# data preprocessing"
      ]
    },
    {
      "cell_type": "code",
      "execution_count": null,
      "id": "4Ij4PrXmz8pn",
      "metadata": {
        "colab": {
          "base_uri": "https://localhost:8080/"
        },
        "id": "4Ij4PrXmz8pn",
        "outputId": "644f2169-27b1-4e55-c203-091665f49295"
      },
      "outputs": [
        {
          "data": {
            "text/plain": [
              "ID       0\n",
              "text     0\n",
              "label    0\n",
              "dtype: int64"
            ]
          },
          "execution_count": 11,
          "metadata": {},
          "output_type": "execute_result"
        }
      ],
      "source": [
        "#Missing values --> No missing values\n",
        "train.isnull().sum()"
      ]
    },
    {
      "cell_type": "code",
      "execution_count": null,
      "id": "IMgmtJcPz8po",
      "metadata": {
        "id": "IMgmtJcPz8po"
      },
      "outputs": [],
      "source": [
        "train\n",
        "aux = pd.DataFrame()\n",
        "aux[\"ID\"] = train[\"ID\"]\n",
        "aux['text'] = train['text']\n",
        "aux['label'] = train['label']\n"
      ]
    },
    {
      "cell_type": "code",
      "execution_count": null,
      "id": "ygixZxwIRwYu",
      "metadata": {
        "id": "ygixZxwIRwYu"
      },
      "outputs": [],
      "source": [
        "indexNames = aux[ aux['label'] == 0 ].index\n",
        "aux.drop(indexNames , inplace=True)"
      ]
    },
    {
      "cell_type": "code",
      "execution_count": null,
      "id": "PHsoX6Siz8pq",
      "metadata": {
        "id": "PHsoX6Siz8pq"
      },
      "outputs": [],
      "source": [
        "def remove_consec_duplicates(s):\n",
        "    new_s = \"\"\n",
        "    prev = \"\"\n",
        "    for c in s:\n",
        "        if len(new_s) == 0:\n",
        "            new_s += c\n",
        "            # print(\"if 1 new_s\",new_s)\n",
        "            prev = c\n",
        "            #print(\"if 1 prev\",prev)\n",
        "        if c == prev and c!=\"h\" and c!=\"f\": # except \"h\"\n",
        "            continue\n",
        "        else:\n",
        "            new_s += c\n",
        "            #print(\"if 2 new_s\",new_s)\n",
        "            prev = c\n",
        "            #print(\"if 2 prev\",prev)\n",
        "    return new_s"
      ]
    },
    {
      "cell_type": "code",
      "execution_count": null,
      "id": "iTBvpG7Yz8ps",
      "metadata": {
        "id": "iTBvpG7Yz8ps",
        "scrolled": false
      },
      "outputs": [],
      "source": [
        "aux[\"text\"]=aux['text'].apply(lambda x :remove_consec_duplicates(x))"
      ]
    },
    {
      "cell_type": "code",
      "execution_count": null,
      "id": "E06QKU-pz8pu",
      "metadata": {
        "id": "E06QKU-pz8pu"
      },
      "outputs": [],
      "source": [
        "#train.compare(aux)"
      ]
    },
    {
      "cell_type": "code",
      "execution_count": null,
      "id": "cS5FUaqBz8pv",
      "metadata": {
        "id": "cS5FUaqBz8pv"
      },
      "outputs": [],
      "source": [
        "def data_cleaning(text):\n",
        "    text = text.lower() #Make text lowercase\n",
        "    text = re.sub('\\[.*?\\]', '', text) #remove text in square brackets\n",
        "    text = re.sub('https?://\\S+|www\\.\\S+', '', text) #remove links\n",
        "    text = re.sub('<.*?>+', '', text) #remove text in <...>\n",
        "    text = re.sub('[%s]' % re.escape(string.punctuation), '', text) #remove punctuation\n",
        "    text = re.sub('\\n', '', text) #remove end of line character\n",
        "    text = re.sub('3','a',text)\n",
        "    text = re.sub('2','a',text)\n",
        "    text = re.sub('4','dh',text)\n",
        "    text = re.sub('5','kh',text)\n",
        "    text = re.sub('7','h',text)\n",
        "    text = re.sub('9','k',text)\n",
        "    text = re.sub('8','gh',text)\n",
        "    return text\n"
      ]
    },
    {
      "cell_type": "code",
      "execution_count": null,
      "id": "P2VtW7pcz8pw",
      "metadata": {
        "id": "P2VtW7pcz8pw"
      },
      "outputs": [],
      "source": [
        "aux['text'] = aux['text'].apply(lambda x: data_cleaning(x)) \n",
        "test['text'] = test['text'].apply(lambda x: data_cleaning(x))"
      ]
    },
    {
      "cell_type": "code",
      "execution_count": null,
      "id": "ikEixDwJz8px",
      "metadata": {
        "colab": {
          "base_uri": "https://localhost:8080/",
          "height": 206
        },
        "id": "ikEixDwJz8px",
        "outputId": "997b0498-bcca-4877-a6e4-7eb8803fb331"
      },
      "outputs": [
        {
          "data": {
            "text/html": [
              "\n",
              "  <div id=\"df-53cc752c-680e-4b21-99e4-e0a96199cf63\">\n",
              "    <div class=\"colab-df-container\">\n",
              "      <div>\n",
              "<style scoped>\n",
              "    .dataframe tbody tr th:only-of-type {\n",
              "        vertical-align: middle;\n",
              "    }\n",
              "\n",
              "    .dataframe tbody tr th {\n",
              "        vertical-align: top;\n",
              "    }\n",
              "\n",
              "    .dataframe thead th {\n",
              "        text-align: right;\n",
              "    }\n",
              "</style>\n",
              "<table border=\"1\" class=\"dataframe\">\n",
              "  <thead>\n",
              "    <tr style=\"text-align: right;\">\n",
              "      <th></th>\n",
              "      <th>ID</th>\n",
              "      <th>text</th>\n",
              "      <th>label</th>\n",
              "    </tr>\n",
              "  </thead>\n",
              "  <tbody>\n",
              "    <tr>\n",
              "      <th>0</th>\n",
              "      <td>13P0QT0</td>\n",
              "      <td>asba lek ou le seim riahi ou asba le ca</td>\n",
              "      <td>-1</td>\n",
              "    </tr>\n",
              "    <tr>\n",
              "      <th>1</th>\n",
              "      <td>SKCLXCJ</td>\n",
              "      <td>chaaeb feykelkoum menghir tahayoul ou kresi</td>\n",
              "      <td>-1</td>\n",
              "    </tr>\n",
              "    <tr>\n",
              "      <th>2</th>\n",
              "      <td>V1TVXIJ</td>\n",
              "      <td>bereau degage nathef ya slim walahi yahchiw fi...</td>\n",
              "      <td>-1</td>\n",
              "    </tr>\n",
              "    <tr>\n",
              "      <th>3</th>\n",
              "      <td>U0TTYY8</td>\n",
              "      <td>ak slouma</td>\n",
              "      <td>1</td>\n",
              "    </tr>\n",
              "    <tr>\n",
              "      <th>4</th>\n",
              "      <td>68DX797</td>\n",
              "      <td>entom titmanou lina ahna aid moubarik ahna cha...</td>\n",
              "      <td>-1</td>\n",
              "    </tr>\n",
              "  </tbody>\n",
              "</table>\n",
              "</div>\n",
              "      <button class=\"colab-df-convert\" onclick=\"convertToInteractive('df-53cc752c-680e-4b21-99e4-e0a96199cf63')\"\n",
              "              title=\"Convert this dataframe to an interactive table.\"\n",
              "              style=\"display:none;\">\n",
              "        \n",
              "  <svg xmlns=\"http://www.w3.org/2000/svg\" height=\"24px\"viewBox=\"0 0 24 24\"\n",
              "       width=\"24px\">\n",
              "    <path d=\"M0 0h24v24H0V0z\" fill=\"none\"/>\n",
              "    <path d=\"M18.56 5.44l.94 2.06.94-2.06 2.06-.94-2.06-.94-.94-2.06-.94 2.06-2.06.94zm-11 1L8.5 8.5l.94-2.06 2.06-.94-2.06-.94L8.5 2.5l-.94 2.06-2.06.94zm10 10l.94 2.06.94-2.06 2.06-.94-2.06-.94-.94-2.06-.94 2.06-2.06.94z\"/><path d=\"M17.41 7.96l-1.37-1.37c-.4-.4-.92-.59-1.43-.59-.52 0-1.04.2-1.43.59L10.3 9.45l-7.72 7.72c-.78.78-.78 2.05 0 2.83L4 21.41c.39.39.9.59 1.41.59.51 0 1.02-.2 1.41-.59l7.78-7.78 2.81-2.81c.8-.78.8-2.07 0-2.86zM5.41 20L4 18.59l7.72-7.72 1.47 1.35L5.41 20z\"/>\n",
              "  </svg>\n",
              "      </button>\n",
              "      \n",
              "  <style>\n",
              "    .colab-df-container {\n",
              "      display:flex;\n",
              "      flex-wrap:wrap;\n",
              "      gap: 12px;\n",
              "    }\n",
              "\n",
              "    .colab-df-convert {\n",
              "      background-color: #E8F0FE;\n",
              "      border: none;\n",
              "      border-radius: 50%;\n",
              "      cursor: pointer;\n",
              "      display: none;\n",
              "      fill: #1967D2;\n",
              "      height: 32px;\n",
              "      padding: 0 0 0 0;\n",
              "      width: 32px;\n",
              "    }\n",
              "\n",
              "    .colab-df-convert:hover {\n",
              "      background-color: #E2EBFA;\n",
              "      box-shadow: 0px 1px 2px rgba(60, 64, 67, 0.3), 0px 1px 3px 1px rgba(60, 64, 67, 0.15);\n",
              "      fill: #174EA6;\n",
              "    }\n",
              "\n",
              "    [theme=dark] .colab-df-convert {\n",
              "      background-color: #3B4455;\n",
              "      fill: #D2E3FC;\n",
              "    }\n",
              "\n",
              "    [theme=dark] .colab-df-convert:hover {\n",
              "      background-color: #434B5C;\n",
              "      box-shadow: 0px 1px 3px 1px rgba(0, 0, 0, 0.15);\n",
              "      filter: drop-shadow(0px 1px 2px rgba(0, 0, 0, 0.3));\n",
              "      fill: #FFFFFF;\n",
              "    }\n",
              "  </style>\n",
              "\n",
              "      <script>\n",
              "        const buttonEl =\n",
              "          document.querySelector('#df-53cc752c-680e-4b21-99e4-e0a96199cf63 button.colab-df-convert');\n",
              "        buttonEl.style.display =\n",
              "          google.colab.kernel.accessAllowed ? 'block' : 'none';\n",
              "\n",
              "        async function convertToInteractive(key) {\n",
              "          const element = document.querySelector('#df-53cc752c-680e-4b21-99e4-e0a96199cf63');\n",
              "          const dataTable =\n",
              "            await google.colab.kernel.invokeFunction('convertToInteractive',\n",
              "                                                     [key], {});\n",
              "          if (!dataTable) return;\n",
              "\n",
              "          const docLinkHtml = 'Like what you see? Visit the ' +\n",
              "            '<a target=\"_blank\" href=https://colab.research.google.com/notebooks/data_table.ipynb>data table notebook</a>'\n",
              "            + ' to learn more about interactive tables.';\n",
              "          element.innerHTML = '';\n",
              "          dataTable['output_type'] = 'display_data';\n",
              "          await google.colab.output.renderOutput(dataTable, element);\n",
              "          const docLink = document.createElement('div');\n",
              "          docLink.innerHTML = docLinkHtml;\n",
              "          element.appendChild(docLink);\n",
              "        }\n",
              "      </script>\n",
              "    </div>\n",
              "  </div>\n",
              "  "
            ],
            "text/plain": [
              "        ID                                               text  label\n",
              "0  13P0QT0            asba lek ou le seim riahi ou asba le ca     -1\n",
              "1  SKCLXCJ        chaaeb feykelkoum menghir tahayoul ou kresi     -1\n",
              "2  V1TVXIJ  bereau degage nathef ya slim walahi yahchiw fi...     -1\n",
              "3  U0TTYY8                                          ak slouma      1\n",
              "4  68DX797  entom titmanou lina ahna aid moubarik ahna cha...     -1"
            ]
          },
          "execution_count": 19,
          "metadata": {},
          "output_type": "execute_result"
        }
      ],
      "source": [
        "aux.head()"
      ]
    },
    {
      "cell_type": "code",
      "execution_count": null,
      "id": "sKEqT1zPR2Eq",
      "metadata": {
        "id": "sKEqT1zPR2Eq"
      },
      "outputs": [],
      "source": [
        "aux[\"text\"] = aux[\"text\"].apply(lambda x: \" \".join([w for w in x.split() if len(w)>2]))\n",
        "#removing words with a length less than 2"
      ]
    },
    {
      "cell_type": "code",
      "execution_count": null,
      "id": "nOWs97cOz8pz",
      "metadata": {
        "id": "nOWs97cOz8pz"
      },
      "outputs": [],
      "source": [
        "#train.compare(aux)"
      ]
    },
    {
      "cell_type": "code",
      "execution_count": null,
      "id": "fZkaZXuZz8p1",
      "metadata": {
        "colab": {
          "base_uri": "https://localhost:8080/"
        },
        "id": "fZkaZXuZz8p1",
        "outputId": "2c49ebb4-13d6-4923-8e3c-a61016604640"
      },
      "outputs": [
        {
          "name": "stdout",
          "output_type": "stream",
          "text": [
            "Number of tokens before normalization: 144333\n",
            "Number of tokens after normalization: 116800\n",
            "number of words dropped after normalization and preprocessing is 27533\n"
          ]
        }
      ],
      "source": [
        "#size of vocabulary before preprocessing\n",
        "corpus1 = ' '.join(list(train['text']))\n",
        "\n",
        "print('Number of tokens before normalization:',len(set((corpus1.split(' ')))))\n",
        "\n",
        "corpus2 = ' '.join(list(aux['text']))\n",
        "\n",
        "print('Number of tokens after normalization:',len(set((corpus2.split(' ')))))\n",
        "\n",
        "print(\"number of words dropped after normalization and preprocessing is\",len(set((corpus1.split(' '))))-len(set((corpus2.split(' ')))))"
      ]
    },
    {
      "cell_type": "markdown",
      "id": "53yZldXBz8p2",
      "metadata": {
        "id": "53yZldXBz8p2"
      },
      "source": [
        "# separate cloud"
      ]
    },
    {
      "cell_type": "code",
      "execution_count": null,
      "id": "4mbZfofJz8p3",
      "metadata": {
        "colab": {
          "base_uri": "https://localhost:8080/"
        },
        "id": "4mbZfofJz8p3",
        "outputId": "ff5fc20c-f057-4d63-e0d8-f015f9148e8e"
      },
      "outputs": [
        {
          "name": "stdout",
          "output_type": "stream",
          "text": [
            "Requirement already satisfied: wordcloud in /usr/local/lib/python3.7/dist-packages (1.5.0)\n",
            "Requirement already satisfied: pillow in /usr/local/lib/python3.7/dist-packages (from wordcloud) (7.1.2)\n",
            "Requirement already satisfied: numpy>=1.6.1 in /usr/local/lib/python3.7/dist-packages (from wordcloud) (1.21.6)\n"
          ]
        }
      ],
      "source": [
        "!pip install wordcloud"
      ]
    },
    {
      "cell_type": "code",
      "execution_count": null,
      "id": "ZMWT06Hjz8p5",
      "metadata": {
        "colab": {
          "base_uri": "https://localhost:8080/"
        },
        "id": "ZMWT06Hjz8p5",
        "outputId": "03abfefd-d783-4360-d3ab-96a2f19f46ef"
      },
      "outputs": [
        {
          "name": "stdout",
          "output_type": "stream",
          "text": [
            "les mots les plus repétés pour les sentiments positifs [('rabi', 6915), ('slim', 4333), ('bravo', 3519), ('maak', 2672), ('alah', 2169), ('slouma', 2053), ('kol', 1946), ('ala', 1547), ('mabrouk', 1508), ('maalem', 1349), ('eli', 1120), ('nchalah', 1066), ('dima', 1018), ('inchalah', 971), ('bech', 961), ('khir', 940), ('barcha', 927), ('aam', 862), ('ama', 806), ('men', 792), ('alik', 790), ('ken', 755), ('ahna', 733), ('riahi', 686), ('brabi', 652), ('tounes', 651), ('walah', 638), ('ena', 605), ('aala', 603), ('ana', 592), ('bon', 575), ('club', 551), ('ili', 531), ('les', 525), ('mak', 517), ('enti', 514), ('ahla', 505), ('min', 504), ('merci', 501), ('haja', 494)]\n",
            "les mots les plus repétés pour les sentiments négatifs [('slim', 2619), ('ala', 2222), ('eli', 2049), ('bech', 1949), ('ken', 1860), ('rabi', 1548), ('men', 1328), ('kol', 1328), ('mala', 1163), ('alah', 1061), ('hata', 1044), ('bara', 1032), ('fih', 997), ('ama', 994), ('ili', 975), ('enti', 968), ('tawa', 921), ('min', 909), ('aala', 905), ('wala', 858), ('chay', 832), ('tounes', 819), ('mouch', 781), ('fil', 753), ('taw', 741), ('brabi', 735), ('barcha', 735), ('alik', 693), ('haja', 689), ('chkoun', 686), ('les', 663), ('fel', 641), ('kan', 640), ('riahi', 622), ('kif', 606), ('ena', 594), ('kima', 584), ('khir', 582), ('hal', 562), ('maa', 558)]\n"
          ]
        }
      ],
      "source": [
        "import collections \n",
        "from collections import Counter\n",
        "\n",
        "# afficher les mots les plus repétés pour les sentiments positifs\n",
        "print(\"les mots les plus repétés pour les sentiments positifs\",Counter(\" \".join(aux[\"text\"][aux[\"label\"]==1]).split()).most_common(40))\n",
        "\n",
        "# afficher les mots les plus repétés pour les sentiments négatifs\n",
        "print(\"les mots les plus repétés pour les sentiments négatifs\",Counter(\" \".join(aux[\"text\"][aux[\"label\"]==-1]).split()).most_common(40))\n"
      ]
    },
    {
      "cell_type": "code",
      "execution_count": null,
      "id": "v22gTxRhz8p6",
      "metadata": {
        "colab": {
          "base_uri": "https://localhost:8080/"
        },
        "id": "v22gTxRhz8p6",
        "outputId": "2c209e7e-33cb-4706-9de9-c48b1a5e50b4"
      },
      "outputs": [
        {
          "name": "stdout",
          "output_type": "stream",
          "text": [
            "['rabi', 'slim', 'bravo', 'maak', 'alah', 'slouma', 'kol', 'ala', 'mabrouk', 'maalem', 'eli', 'nchalah', 'dima', 'inchalah', 'bech', 'khir', 'barcha', 'aam', 'ama', 'men', 'alik', 'ken', 'ahna', 'riahi', 'brabi', 'tounes', 'walah', 'ena', 'aala', 'ana', 'bon', 'club', 'ili', 'les', 'mak', 'enti', 'ahla', 'min', 'merci', 'haja', 'maa', 'fil', 'rajel', 'saha', 'bien', 'hata', 'tawa', 'wlh', 'bone', 'alina', 'patron', 'vive', 'nchala', 'wala', 'president', 'fel', 'mouch', 'chaab', 'yarhmou', 'fih', 'mala', 'chay', 'kima', 'haka', 'lkol', 'fik', 'est', 'tunis', 'inti', 'bos', 'maana', 'enchalah', 'rak', 'wenti', 'nes', 'pour', 'dawla', 'tounis', 'wel', 'jamaiya']\n",
            "['slim', 'ala', 'eli', 'bech', 'ken', 'rabi', 'men', 'kol', 'mala', 'alah', 'hata', 'bara', 'fih', 'ama', 'ili', 'enti', 'tawa', 'min', 'aala', 'wala', 'chay', 'tounes', 'mouch', 'fil', 'taw', 'brabi', 'barcha', 'alik', 'haja', 'chkoun', 'les', 'fel', 'kan', 'riahi', 'kif', 'ena', 'kima', 'khir', 'hal', 'maa', 'aal', 'mtaa', 'club', 'mel', 'bel', 'haka', 'inti', 'ahna', 'nes', 'ana', 'flous', 'walah', 'fik', 'ben', 'wel', 'lkol', 'khater', 'rajel', 'bled', 'howa', 'hhhh', 'fama', 'alih', 'fiha', 'dima', 'wlh', 'hhhhh', 'maak', 'lel', 'est', 'chaab', 'mais', 'wela', 'had', 'ech', 'ali', 'tahki', 'kbal', 'pas', 'wahed']\n"
          ]
        }
      ],
      "source": [
        "from collections import Counter\n",
        "positifs=[]\n",
        "négatifs=[]\n",
        "for i in range(80):\n",
        "    positifs.append((Counter(\" \".join(aux[\"text\"][aux[\"label\"]==1]).split()).most_common(80))[i][0])\n",
        "print(positifs)\n",
        "for i in range(80):\n",
        "    négatifs.append((Counter(\" \".join(aux[\"text\"][aux[\"label\"]==-1]).split()).most_common(80))[i][0])\n",
        "print(négatifs)\n",
        "\n"
      ]
    },
    {
      "cell_type": "code",
      "execution_count": null,
      "id": "5IiF9anwz8p7",
      "metadata": {
        "colab": {
          "base_uri": "https://localhost:8080/",
          "height": 380
        },
        "id": "5IiF9anwz8p7",
        "outputId": "431712b1-ce51-4f92-80e9-b131b1f7ef06",
        "scrolled": true
      },
      "outputs": [
        {
          "data": {
            "image/png": "[encoded data removed]",
            "text/plain": [
              "<Figure size 720x504 with 1 Axes>"
            ]
          },
          "metadata": {
            "needs_background": "light"
          },
          "output_type": "display_data"
        }
      ],
      "source": [
        "#positive \n",
        "from wordcloud import WordCloud\n",
        "positive_words =\" \".join([text for text in positifs])\n",
        "word_cloud = WordCloud(width=800,height=500,random_state=1,max_font_size=80).generate(positive_words)\n",
        "plt.figure(figsize=(10,7))\n",
        "plt.imshow(word_cloud,interpolation=\"bilinear\")\n",
        "plt.axis(\"off\")\n",
        "plt.show()"
      ]
    },
    {
      "cell_type": "code",
      "execution_count": null,
      "id": "dW9h5VDfz8p8",
      "metadata": {
        "colab": {
          "base_uri": "https://localhost:8080/",
          "height": 380
        },
        "id": "dW9h5VDfz8p8",
        "outputId": "b5e43fdd-e3a4-4ef0-c2a1-fe6c2559c747",
        "scrolled": false
      },
      "outputs": [
        {
          "data": {
            "image/png": "[encoded data removed]",
            "text/plain": [
              "<Figure size 720x504 with 1 Axes>"
            ]
          },
          "metadata": {
            "needs_background": "light"
          },
          "output_type": "display_data"
        }
      ],
      "source": [
        "#negative \n",
        "from wordcloud import WordCloud\n",
        "négatifs_words =\" \".join([text for text in négatifs])\n",
        "word_cloud = WordCloud(width=800,height=500,random_state=1,max_font_size=80).generate(négatifs_words)\n",
        "plt.figure(figsize=(10,7))\n",
        "plt.imshow(word_cloud,interpolation=\"bilinear\")\n",
        "plt.axis(\"off\")\n",
        "plt.show()"
      ]
    },
    {
      "cell_type": "code",
      "execution_count": null,
      "id": "5Ygj7YNMz8p9",
      "metadata": {
        "colab": {
          "base_uri": "https://localhost:8080/"
        },
        "id": "5Ygj7YNMz8p9",
        "outputId": "200e21fe-3e21-4027-84ab-929bd019df9c"
      },
      "outputs": [
        {
          "name": "stdout",
          "output_type": "stream",
          "text": [
            "There are 1 GPU(s) available.\n",
            "Device name: Tesla T4\n"
          ]
        }
      ],
      "source": [
        "import torch\n",
        "if torch.cuda.is_available():       \n",
        "    device = torch.device(\"cuda\")\n",
        "    print(f'There are {torch.cuda.device_count()} GPU(s) available.')\n",
        "    print('Device name:', torch.cuda.get_device_name(0))\n",
        "\n",
        "else:\n",
        "    print('No GPU available, using the CPU instead.')\n",
        "    device = torch.device(\"cpu\")"
      ]
    },
    {
      "cell_type": "code",
      "execution_count": null,
      "id": "nYap_AXvz8p-",
      "metadata": {
        "id": "nYap_AXvz8p-"
      },
      "outputs": [],
      "source": [
        "labels = aux.label.values\n",
        "sentences=aux.text.values"
      ]
    },
    {
      "cell_type": "code",
      "execution_count": null,
      "id": "Nf6z3g-3z8p-",
      "metadata": {
        "id": "Nf6z3g-3z8p-"
      },
      "outputs": [],
      "source": [
        "labels+=1"
      ]
    },
    {
      "cell_type": "code",
      "execution_count": null,
      "id": "a1gjl2Yp7NAL",
      "metadata": {
        "id": "a1gjl2Yp7NAL"
      },
      "outputs": [],
      "source": [
        "import tensorflow as tf\n",
        "from sklearn.feature_extraction.text import CountVectorizer\n",
        "from keras.preprocessing.text import Tokenizer\n",
        "from keras.preprocessing.sequence import pad_sequences\n",
        "from keras.models import Sequential\n",
        "from sklearn.model_selection import train_test_split\n",
        "from keras.utils.np_utils import to_categorical\n",
        "from sklearn.utils import resample\n",
        "from sklearn.utils import shuffle\n",
        "from keras.layers import Dense, Flatten, LSTM, Dropout, Activation, Embedding, Bidirectional,SpatialDropout1D\n",
        "\n",
        "\n"
      ]
    },
    {
      "cell_type": "code",
      "execution_count": null,
      "id": "P5ghsnrh6zkp",
      "metadata": {
        "id": "P5ghsnrh6zkp"
      },
      "outputs": [],
      "source": [
        "feautres = 3000\n",
        "embedding_dim = 64\n",
        "max_length = 128\n",
        "oov_tok = '<OOV>' #  Out of Vocabulary"
      ]
    },
    {
      "cell_type": "code",
      "execution_count": null,
      "id": "QHiXfgPGZ9CM",
      "metadata": {
        "id": "QHiXfgPGZ9CM"
      },
      "outputs": [],
      "source": [
        "tokenizer = Tokenizer(num_words = feautres, oov_token=oov_tok)\n",
        "tokenizer.fit_on_texts(aux['text'])\n",
        "word_index = tokenizer.word_index"
      ]
    },
    {
      "cell_type": "code",
      "execution_count": null,
      "id": "mLHxoyNPL1nm",
      "metadata": {
        "colab": {
          "base_uri": "https://localhost:8080/"
        },
        "id": "mLHxoyNPL1nm",
        "outputId": "5d25b3e6-4bc3-4e3b-b22b-f111daefac61"
      },
      "outputs": [
        {
          "data": {
            "text/plain": [
              "{'<OOV>': 1,\n",
              " 'rabi': 2,\n",
              " 'slim': 3,\n",
              " 'ala': 4,\n",
              " 'bravo': 5,\n",
              " 'kol': 6,\n",
              " 'alah': 7,\n",
              " 'eli': 8,\n",
              " 'maak': 9,\n",
              " 'bech': 10,\n",
              " 'ken': 11,\n",
              " 'slouma': 12,\n",
              " 'men': 13,\n",
              " 'ama': 14,\n",
              " 'barcha': 15,\n",
              " 'mabrouk': 16,\n",
              " 'khir': 17,\n",
              " 'mala': 18,\n",
              " 'aala': 19,\n",
              " 'ili': 20,\n",
              " 'alik': 21,\n",
              " 'enti': 22,\n",
              " 'hata': 23,\n",
              " 'tounes': 24,\n",
              " 'dima': 25,\n",
              " 'maalem': 26,\n",
              " 'min': 27,\n",
              " 'brabi': 28,\n",
              " 'fih': 29,\n",
              " 'tawa': 30,\n",
              " 'riahi': 31,\n",
              " 'nchalah': 32,\n",
              " 'ahna': 33,\n",
              " 'wala': 34,\n",
              " 'fil': 35,\n",
              " 'bara': 36,\n",
              " 'ena': 37,\n",
              " 'les': 38,\n",
              " 'haja': 39,\n",
              " 'chay': 40,\n",
              " 'mouch': 41,\n",
              " 'walah': 42,\n",
              " 'ana': 43,\n",
              " 'club': 44,\n",
              " 'inchalah': 45,\n",
              " 'aam': 46,\n",
              " 'maa': 47,\n",
              " 'fel': 48,\n",
              " 'taw': 49,\n",
              " 'chkoun': 50,\n",
              " 'kima': 51,\n",
              " 'kan': 52,\n",
              " 'rajel': 53,\n",
              " 'kif': 54,\n",
              " 'haka': 55,\n",
              " 'aal': 56,\n",
              " 'inti': 57,\n",
              " 'hal': 58,\n",
              " 'wlh': 59,\n",
              " 'fik': 60,\n",
              " 'nes': 61,\n",
              " 'bel': 62,\n",
              " 'mtaa': 63,\n",
              " 'lkol': 64,\n",
              " 'wel': 65,\n",
              " 'chaab': 66,\n",
              " 'alina': 67,\n",
              " 'mel': 68,\n",
              " 'est': 69,\n",
              " 'khater': 70,\n",
              " 'ben': 71,\n",
              " 'alih': 72,\n",
              " 'lel': 73,\n",
              " 'howa': 74,\n",
              " 'bon': 75,\n",
              " 'mak': 76,\n",
              " 'mais': 77,\n",
              " 'flous': 78,\n",
              " 'fama': 79,\n",
              " 'hhhh': 80,\n",
              " 'tunis': 81,\n",
              " 'rak': 82,\n",
              " 'hhhhh': 83,\n",
              " 'had': 84,\n",
              " 'fiha': 85,\n",
              " 'merci': 86,\n",
              " 'tounis': 87,\n",
              " 'dawla': 88,\n",
              " 'bled': 89,\n",
              " 'hak': 90,\n",
              " 'jamaiya': 91,\n",
              " 'belehi': 92,\n",
              " 'ahla': 93,\n",
              " 'rana': 94,\n",
              " 'saha': 95,\n",
              " 'bien': 96,\n",
              " 'ali': 97,\n",
              " 'pas': 98,\n",
              " 'mara': 99,\n",
              " 'wela': 100,\n",
              " 'president': 101,\n",
              " 'wahed': 102,\n",
              " 'ech': 103,\n",
              " 'lil': 104,\n",
              " 'shih': 105,\n",
              " 'hhhhhh': 106,\n",
              " 'pour': 107,\n",
              " 'wenti': 108,\n",
              " 'kbal': 109,\n",
              " 'nchala': 110,\n",
              " 'hedha': 111,\n",
              " 'vive': 112,\n",
              " 'marzouki': 113,\n",
              " 'bih': 114,\n",
              " 'houwa': 115,\n",
              " 'mech': 116,\n",
              " 'rouhek': 117,\n",
              " 'patron': 118,\n",
              " 'bone': 119,\n",
              " 'jamaia': 120,\n",
              " 'houma': 121,\n",
              " 'klem': 122,\n",
              " 'des': 123,\n",
              " 'rahou': 124,\n",
              " 'hhh': 125,\n",
              " 'yarhmou': 126,\n",
              " 'theb': 127,\n",
              " 'tahki': 128,\n",
              " 'maana': 129,\n",
              " 'moch': 130,\n",
              " 'vous': 131,\n",
              " 'khali': 132,\n",
              " 'walahi': 133,\n",
              " 'chwaya': 134,\n",
              " 'kbir': 135,\n",
              " 'mela': 136,\n",
              " 'alech': 137,\n",
              " 'lik': 138,\n",
              " 'win': 139,\n",
              " 'hhhhhhh': 140,\n",
              " 'enchalah': 141,\n",
              " 'hay': 142,\n",
              " 'weld': 143,\n",
              " 'aime': 144,\n",
              " 'abed': 145,\n",
              " 'rais': 146,\n",
              " 'you': 147,\n",
              " 'nhar': 148,\n",
              " 'enta': 149,\n",
              " 'rahi': 150,\n",
              " 'bil': 151,\n",
              " 'sami': 152,\n",
              " 'jomhour': 153,\n",
              " 'bik': 154,\n",
              " 'bos': 155,\n",
              " 'lol': 156,\n",
              " 'mil': 157,\n",
              " 'chouf': 158,\n",
              " 'zebi': 159,\n",
              " 'zeda': 160,\n",
              " 'yeser': 161,\n",
              " 'raais': 162,\n",
              " 'oui': 163,\n",
              " 'yekhi': 164,\n",
              " 'bch': 165,\n",
              " 'bach': 166,\n",
              " 'ahsen': 167,\n",
              " 'raw': 168,\n",
              " 'nheb': 169,\n",
              " 'wehed': 170,\n",
              " 'feha': 171,\n",
              " 'hiya': 172,\n",
              " 'koul': 173,\n",
              " 'nik': 174,\n",
              " 'tunisie': 175,\n",
              " 'ila': 176,\n",
              " 'taraji': 177,\n",
              " 'khouya': 178,\n",
              " 'lefriki': 179,\n",
              " 'omek': 180,\n",
              " 'raby': 181,\n",
              " 'top': 182,\n",
              " 'kifech': 183,\n",
              " 'vraiment': 184,\n",
              " 'alikom': 185,\n",
              " 'akber': 186,\n",
              " 'hedhi': 187,\n",
              " 'kahba': 188,\n",
              " 'président': 189,\n",
              " 'baad': 190,\n",
              " 'behi': 191,\n",
              " 'kbira': 192,\n",
              " 'aasba': 193,\n",
              " 'lifriki': 194,\n",
              " 'degage': 195,\n",
              " 'wahdek': 196,\n",
              " 'elkol': 197,\n",
              " 'tounsi': 198,\n",
              " 'page': 199,\n",
              " 'mtea': 200,\n",
              " 'okhra': 201,\n",
              " 'plus': 202,\n",
              " 'ekhdem': 203,\n",
              " 'aandou': 204,\n",
              " 'alihom': 205,\n",
              " 'belahi': 206,\n",
              " 'haw': 207,\n",
              " 'koura': 208,\n",
              " 'weli': 209,\n",
              " 'khedma': 210,\n",
              " 'sahbi': 211,\n",
              " 'kalou': 212,\n",
              " 'man': 213,\n",
              " 'avec': 214,\n",
              " 'kolna': 215,\n",
              " 'rjel': 216,\n",
              " 'klay': 217,\n",
              " 'akther': 218,\n",
              " 'nchlh': 219,\n",
              " 'donc': 220,\n",
              " 'courage': 221,\n",
              " 'fihom': 222,\n",
              " 'maah': 223,\n",
              " 'chaaeb': 224,\n",
              " 'mch': 225,\n",
              " 'bkhir': 226,\n",
              " 'tfouh': 227,\n",
              " 'hetha': 228,\n",
              " 'dit': 229,\n",
              " 'africain': 230,\n",
              " 'tahan': 231,\n",
              " 'mahlek': 232,\n",
              " 'que': 233,\n",
              " 'svp': 234,\n",
              " 'rab': 235,\n",
              " 'taamel': 236,\n",
              " 'tkoun': 237,\n",
              " 'yheb': 238,\n",
              " 'lebled': 239,\n",
              " 'zid': 240,\n",
              " 'tkoul': 241,\n",
              " 'snin': 242,\n",
              " 'awel': 243,\n",
              " 'love': 244,\n",
              " 'hhhhhhhh': 245,\n",
              " 'ema': 246,\n",
              " 'jdid': 247,\n",
              " 'aidek': 248,\n",
              " 'akwa': 249,\n",
              " 'marbouha': 250,\n",
              " 'rani': 251,\n",
              " 'alf': 252,\n",
              " 'enes': 253,\n",
              " 'ach': 254,\n",
              " 'wahda': 255,\n",
              " 'kal': 256,\n",
              " 'bla': 257,\n",
              " 'fikom': 258,\n",
              " 'biha': 259,\n",
              " 'sayeb': 260,\n",
              " 'yezi': 261,\n",
              " 'tahana': 262,\n",
              " 'labes': 263,\n",
              " 'kalb': 264,\n",
              " 'bravobravo': 265,\n",
              " 'yahki': 266,\n",
              " 'hram': 267,\n",
              " 'une': 268,\n",
              " 'aleh': 269,\n",
              " 'yaamel': 270,\n",
              " 'wil': 271,\n",
              " 'farkh': 272,\n",
              " 'lotfi': 273,\n",
              " 'wahna': 274,\n",
              " 'big': 275,\n",
              " 'aandi': 276,\n",
              " 'hit': 277,\n",
              " 'king': 278,\n",
              " 'yaatik': 279,\n",
              " 'aya': 280,\n",
              " 'rouhou': 281,\n",
              " 'twali': 282,\n",
              " 'chnowa': 283,\n",
              " 'wakt': 284,\n",
              " 'hala': 285,\n",
              " 'inchala': 286,\n",
              " 'enty': 287,\n",
              " 'nas': 288,\n",
              " 'laabed': 289,\n",
              " 'aana': 290,\n",
              " 'malem': 291,\n",
              " 'inta': 292,\n",
              " 'aandek': 293,\n",
              " 'aad': 294,\n",
              " 'hadha': 295,\n",
              " 'kamel': 296,\n",
              " 'machalah': 297,\n",
              " 'lazem': 298,\n",
              " 'fina': 299,\n",
              " 'winti': 300,\n",
              " 'tayara': 301,\n",
              " 'wled': 302,\n",
              " 'aliha': 303,\n",
              " 'maalim': 304,\n",
              " 'mazel': 305,\n",
              " 'ryahi': 306,\n",
              " 'lclub': 307,\n",
              " 'aamel': 308,\n",
              " 'hethi': 309,\n",
              " 'yekhdem': 310,\n",
              " 'bsaraha': 311,\n",
              " 'chiboub': 312,\n",
              " 'nahna': 313,\n",
              " 'kifek': 314,\n",
              " 'tahya': 315,\n",
              " 'wrabi': 316,\n",
              " 'chômage': 317,\n",
              " 'echaab': 318,\n",
              " 'sanfara': 319,\n",
              " 'hatha': 320,\n",
              " 'maek': 321,\n",
              " 'akbar': 322,\n",
              " 'hhhhhhhhh': 323,\n",
              " 'god': 324,\n",
              " 'non': 325,\n",
              " 'lah': 326,\n",
              " 'kont': 327,\n",
              " 'adore': 328,\n",
              " 'moncef': 329,\n",
              " 'ans': 330,\n",
              " 'nayek': 331,\n",
              " 'sur': 332,\n",
              " 'amin': 333,\n",
              " 'aalik': 334,\n",
              " 'berasmi': 335,\n",
              " 'rap': 336,\n",
              " 'walh': 337,\n",
              " 'joueur': 338,\n",
              " 'chance': 339,\n",
              " 'lina': 340,\n",
              " 'kleb': 341,\n",
              " 'bou': 342,\n",
              " 'zaama': 343,\n",
              " 'boutoula': 344,\n",
              " 'kanet': 345,\n",
              " 'erajel': 346,\n",
              " 'yji': 347,\n",
              " 'like': 348,\n",
              " 'bro': 349,\n",
              " 'bele': 350,\n",
              " 'zok': 351,\n",
              " 'cpr': 352,\n",
              " 'toi': 353,\n",
              " 'bin': 354,\n",
              " 'hia': 355,\n",
              " 'tous': 356,\n",
              " 'miboun': 357,\n",
              " 'wasel': 358,\n",
              " 'fin': 359,\n",
              " 'hada': 360,\n",
              " 'zouz': 361,\n",
              " 'chbik': 362,\n",
              " 'continuation': 363,\n",
              " 'kaleb': 364,\n",
              " 'baaed': 365,\n",
              " 'tekhdem': 366,\n",
              " 'twensa': 367,\n",
              " 'rahom': 368,\n",
              " 'alexis': 369,\n",
              " 'ykoun': 370,\n",
              " 'normal': 371,\n",
              " 'ale': 372,\n",
              " 'nabara': 373,\n",
              " 'aid': 374,\n",
              " 'bouk': 375,\n",
              " 'thawra': 376,\n",
              " 'the': 377,\n",
              " 'sbeh': 378,\n",
              " 'joumhour': 379,\n",
              " 'tji': 380,\n",
              " 'titre': 381,\n",
              " 'ina': 382,\n",
              " 'yarhem': 383,\n",
              " 'jamaeya': 384,\n",
              " 'denya': 385,\n",
              " 'hhaw': 386,\n",
              " 'jamaya': 387,\n",
              " 'wla': 388,\n",
              " 'nhebou': 389,\n",
              " 'clubiste': 390,\n",
              " 'forza': 391,\n",
              " 'meli': 392,\n",
              " 'clip': 393,\n",
              " 'menek': 394,\n",
              " 'mahouch': 395,\n",
              " 'taaref': 396,\n",
              " 'lezem': 397,\n",
              " 'kadech': 398,\n",
              " 'ryehi': 399,\n",
              " 'entouma': 400,\n",
              " 'jit': 401,\n",
              " 'and': 402,\n",
              " 'amal': 403,\n",
              " 'come': 404,\n",
              " 'menou': 405,\n",
              " 'bras': 406,\n",
              " 'aandha': 407,\n",
              " 'baba': 408,\n",
              " 'kolha': 409,\n",
              " 'match': 410,\n",
              " 'aib': 411,\n",
              " 'aar': 412,\n",
              " 'maaadech': 413,\n",
              " 'hkeya': 414,\n",
              " 'grand': 415,\n",
              " 'aka': 416,\n",
              " 'tofla': 417,\n",
              " 'hhhhhhhhhh': 418,\n",
              " 'wahid': 419,\n",
              " 'bina': 420,\n",
              " 'lyoum': 421,\n",
              " 'kad': 422,\n",
              " 'aand': 423,\n",
              " 'yakhi': 424,\n",
              " 'contre': 425,\n",
              " 'rajil': 426,\n",
              " 'notre': 427,\n",
              " 'aman': 428,\n",
              " 'heka': 429,\n",
              " 'houa': 430,\n",
              " 'ghir': 431,\n",
              " 'kaaed': 432,\n",
              " 'sanfour': 433,\n",
              " 'maakom': 434,\n",
              " 'aamlou': 435,\n",
              " 'maalam': 436,\n",
              " 'enchala': 437,\n",
              " 'amine': 438,\n",
              " 'mta': 439,\n",
              " 'yarham': 440,\n",
              " 'film': 441,\n",
              " 'hhhhhhhhhhh': 442,\n",
              " 'kep': 443,\n",
              " 'djabou': 444,\n",
              " 'sidi': 445,\n",
              " 'yarahmou': 446,\n",
              " 'basem': 447,\n",
              " 'jdida': 448,\n",
              " 'dislike': 449,\n",
              " 'kifeh': 450,\n",
              " 'kolou': 451,\n",
              " 'hedi': 452,\n",
              " 'tout': 453,\n",
              " 'qui': 454,\n",
              " 'yemchi': 455,\n",
              " 'youm': 456,\n",
              " 'nesma': 457,\n",
              " 'raho': 458,\n",
              " 'ekher': 459,\n",
              " 'barka': 460,\n",
              " 'walit': 461,\n",
              " 'chey': 462,\n",
              " 'ela': 463,\n",
              " 'yechfih': 464,\n",
              " 'ywafkek': 465,\n",
              " 'mich': 466,\n",
              " 'bihom': 467,\n",
              " 'nahdha': 468,\n",
              " 'waw': 469,\n",
              " 'alh': 470,\n",
              " 'chy': 471,\n",
              " 'très': 472,\n",
              " 'aadi': 473,\n",
              " 'yelzem': 474,\n",
              " 'dégage': 475,\n",
              " 'menha': 476,\n",
              " 'honte': 477,\n",
              " 'kén': 478,\n",
              " 'mnin': 479,\n",
              " 'bilahi': 480,\n",
              " 'hathi': 481,\n",
              " 'zayed': 482,\n",
              " 'sloma': 483,\n",
              " 'ffama': 484,\n",
              " 'ghali': 485,\n",
              " 'akid': 486,\n",
              " 'vrai': 487,\n",
              " 'trop': 488,\n",
              " 'nchalh': 489,\n",
              " 'shiha': 490,\n",
              " 'zah': 491,\n",
              " 'khsara': 492,\n",
              " 'bilehi': 493,\n",
              " 'hadhi': 494,\n",
              " 'ele': 495,\n",
              " 'equipe': 496,\n",
              " 'omha': 497,\n",
              " 'yetraba': 498,\n",
              " 'ataquant': 499,\n",
              " 'chab': 500,\n",
              " 'aleha': 501,\n",
              " 'blad': 502,\n",
              " 'menhom': 503,\n",
              " 'nous': 504,\n",
              " 'quoi': 505,\n",
              " 'ras': 506,\n",
              " 'signaler': 507,\n",
              " 'mon': 508,\n",
              " 'said': 509,\n",
              " 'lhak': 510,\n",
              " 'beb': 511,\n",
              " 'maw': 512,\n",
              " 'tabka': 513,\n",
              " 'emaak': 514,\n",
              " 'yaser': 515,\n",
              " 'eni': 516,\n",
              " 'hhhhhhhhhhhh': 517,\n",
              " 'hor': 518,\n",
              " 'kamcha': 519,\n",
              " 'ham': 520,\n",
              " 'toul': 521,\n",
              " 'iheb': 522,\n",
              " 'erjel': 523,\n",
              " 'beha': 524,\n",
              " 'cab': 525,\n",
              " 'heya': 526,\n",
              " 'belhak': 527,\n",
              " 'surtout': 528,\n",
              " 'par': 529,\n",
              " 'tnajem': 530,\n",
              " 'sar': 531,\n",
              " 'video': 532,\n",
              " 'jenjon': 533,\n",
              " 'maahom': 534,\n",
              " 'weldi': 535,\n",
              " 'ffi': 536,\n",
              " 'khit': 537,\n",
              " 'rohek': 538,\n",
              " 'zina': 539,\n",
              " 'aalina': 540,\n",
              " 'zeyed': 541,\n",
              " 'lahkeya': 542,\n",
              " 'thin': 543,\n",
              " 'walet': 544,\n",
              " 'bjeh': 545,\n",
              " 'wakil': 546,\n",
              " 'juste': 547,\n",
              " 'waktech': 548,\n",
              " 'zabour': 549,\n",
              " 'louled': 550,\n",
              " 'rouhik': 551,\n",
              " 'din': 552,\n",
              " 'jamais': 553,\n",
              " 'mra': 554,\n",
              " 'zeby': 555,\n",
              " 'awled': 556,\n",
              " 'parc': 557,\n",
              " 'ched': 558,\n",
              " 'thib': 559,\n",
              " 'yhebou': 560,\n",
              " 'twansa': 561,\n",
              " 'fait': 562,\n",
              " 'jaw': 563,\n",
              " 'respect': 564,\n",
              " 'chniya': 565,\n",
              " 'leclub': 566,\n",
              " 'amaltou': 567,\n",
              " 'efriki': 568,\n",
              " 'salah': 569,\n",
              " 'mahich': 570,\n",
              " 'just': 571,\n",
              " 'thama': 572,\n",
              " 'hadi': 573,\n",
              " 'fech': 574,\n",
              " 'bhim': 575,\n",
              " 'akher': 576,\n",
              " 'lekher': 577,\n",
              " 'wahra': 578,\n",
              " 'jey': 579,\n",
              " 'kais': 580,\n",
              " 'rajaa': 581,\n",
              " 'wal': 582,\n",
              " 'saber': 583,\n",
              " 'chnouwa': 584,\n",
              " 'beji': 585,\n",
              " 'behya': 586,\n",
              " 'jet': 587,\n",
              " 'ykhalik': 588,\n",
              " 'mahleha': 589,\n",
              " 'asba': 590,\n",
              " 'politique': 591,\n",
              " 'rakom': 592,\n",
              " 'taich': 593,\n",
              " 'kelma': 594,\n",
              " 'meskina': 595,\n",
              " 'nkoul': 596,\n",
              " 'manich': 597,\n",
              " 'mahou': 598,\n",
              " 'jib': 599,\n",
              " 'yezina': 600,\n",
              " 'jamia': 601,\n",
              " 'dandouk': 602,\n",
              " 'rouh': 603,\n",
              " 'tjib': 604,\n",
              " 'chnia': 605,\n",
              " 'beli': 606,\n",
              " 'taa': 607,\n",
              " 'jemla': 608,\n",
              " 'anta': 609,\n",
              " 'waldik': 610,\n",
              " 'tahiya': 611,\n",
              " 'joueurs': 612,\n",
              " 'tbarkalah': 613,\n",
              " 'yarhmo': 614,\n",
              " 'maalm': 615,\n",
              " 'aada': 616,\n",
              " 'tlaa': 617,\n",
              " 'mohamed': 618,\n",
              " 'dam': 619,\n",
              " 'mahla': 620,\n",
              " 'aali': 621,\n",
              " 'temchi': 622,\n",
              " 'joueret': 623,\n",
              " 'hiwar': 624,\n",
              " 'chkon': 625,\n",
              " 'khra': 626,\n",
              " 'tchouf': 627,\n",
              " 'toz': 628,\n",
              " 'hel': 629,\n",
              " 'wini': 630,\n",
              " 'dayma': 631,\n",
              " 'wrak': 632,\n",
              " 'akal': 633,\n",
              " 'hana': 634,\n",
              " 'sid': 635,\n",
              " 'bich': 636,\n",
              " 'nhebek': 637,\n",
              " 'leflous': 638,\n",
              " 'sarek': 639,\n",
              " 'hkeyet': 640,\n",
              " 'kil': 641,\n",
              " 'capo': 642,\n",
              " 'bahi': 643,\n",
              " 'wenta': 644,\n",
              " 'yaamlou': 645,\n",
              " 'enahdha': 646,\n",
              " 'kora': 647,\n",
              " 'winou': 648,\n",
              " 'houkouma': 649,\n",
              " 'max': 650,\n",
              " 'enas': 651,\n",
              " 'amana': 652,\n",
              " 'mafamech': 653,\n",
              " 'yaaref': 654,\n",
              " 'tres': 655,\n",
              " 'iji': 656,\n",
              " 'krib': 657,\n",
              " 'maaak': 658,\n",
              " 'sebsi': 659,\n",
              " 'libya': 660,\n",
              " 'touns': 661,\n",
              " 'baya': 662,\n",
              " 'tarjaa': 663,\n",
              " 'saybou': 664,\n",
              " 'hya': 665,\n",
              " 'hab': 666,\n",
              " 'yabka': 667,\n",
              " 'sna': 668,\n",
              " 'viva': 669,\n",
              " 'wisem': 670,\n",
              " 'béch': 671,\n",
              " 'flousek': 672,\n",
              " 'kalbi': 673,\n",
              " 'hhhhhhhhhhhhh': 674,\n",
              " 'kir': 675,\n",
              " 'yaani': 676,\n",
              " 'hajet': 677,\n",
              " 'law': 678,\n",
              " 'ywali': 679,\n",
              " 'chbih': 680,\n",
              " 'omk': 681,\n",
              " 'eshih': 682,\n",
              " 'lih': 683,\n",
              " 'blasa': 684,\n",
              " 'fadina': 685,\n",
              " 'fouk': 686,\n",
              " 'benzarti': 687,\n",
              " 'klam': 688,\n",
              " 'fot': 689,\n",
              " 'stade': 690,\n",
              " 'zanatir': 691,\n",
              " 'alors': 692,\n",
              " 'omou': 693,\n",
              " 'ghalta': 694,\n",
              " 'mnayek': 695,\n",
              " 'nafs': 696,\n",
              " 'maaneha': 697,\n",
              " 'ensen': 698,\n",
              " 'wow': 699,\n",
              " 'korsi': 700,\n",
              " 'etounsi': 701,\n",
              " 'enfin': 702,\n",
              " 'khalik': 703,\n",
              " 'wou': 704,\n",
              " 'masakh': 705,\n",
              " 'kouki': 706,\n",
              " 'gati': 707,\n",
              " 'kanoun': 708,\n",
              " 'nmout': 709,\n",
              " 'ghalia': 710,\n",
              " 'ikoun': 711,\n",
              " 'homa': 712,\n",
              " 'yaatek': 713,\n",
              " 'mina': 714,\n",
              " 'rades': 715,\n",
              " 'kafon': 716,\n",
              " 'khoya': 717,\n",
              " 'amalt': 718,\n",
              " 'kolt': 719,\n",
              " 'ejamaiya': 720,\n",
              " 'chokran': 721,\n",
              " 'maaa': 722,\n",
              " 'ahsan': 723,\n",
              " 'hob': 724,\n",
              " 'meme': 725,\n",
              " 'omkom': 726,\n",
              " 'kifou': 727,\n",
              " 'thika': 728,\n",
              " 'nidhal': 729,\n",
              " 'home': 730,\n",
              " 'bas': 731,\n",
              " 'esaha': 732,\n",
              " 'riyahi': 733,\n",
              " 'beaucoup': 734,\n",
              " 'mteaek': 735,\n",
              " 'libled': 736,\n",
              " 'from': 737,\n",
              " 'zboubna': 738,\n",
              " 'hasbouna': 739,\n",
              " 'rod': 740,\n",
              " 'ausi': 741,\n",
              " 'dans': 742,\n",
              " 'thebou': 743,\n",
              " 'khalina': 744,\n",
              " 'kodem': 745,\n",
              " 'kolhom': 746,\n",
              " 'hhhhhhhhhhhhhh': 747,\n",
              " 'asal': 748,\n",
              " 'mdr': 749,\n",
              " 'job': 750,\n",
              " 'nchoufou': 751,\n",
              " 'style': 752,\n",
              " 'niveau': 753,\n",
              " 'blech': 754,\n",
              " 'ray': 755,\n",
              " 'zin': 756,\n",
              " 'veut': 757,\n",
              " 'barnamej': 758,\n",
              " 'jabri': 759,\n",
              " 'lebes': 760,\n",
              " 'karim': 761,\n",
              " 'ghodwa': 762,\n",
              " 'belek': 763,\n",
              " 'cete': 764,\n",
              " 'besh': 765,\n",
              " 'tir': 766,\n",
              " 'mechi': 767,\n",
              " 'coupe': 768,\n",
              " 'toujours': 769,\n",
              " 'koun': 770,\n",
              " 'ifriki': 771,\n",
              " 'jaime': 772,\n",
              " 'ilkol': 773,\n",
              " 'imaak': 774,\n",
              " 'france': 775,\n",
              " 'famile': 776,\n",
              " 'kaada': 777,\n",
              " 'lbled': 778,\n",
              " 'ija': 779,\n",
              " 'suis': 780,\n",
              " 'naaref': 781,\n",
              " 'naama': 782,\n",
              " 'nice': 783,\n",
              " 'nhebouk': 784,\n",
              " 'fikou': 785,\n",
              " 'alach': 786,\n",
              " 'hand': 787,\n",
              " 'samir': 788,\n",
              " 'wild': 789,\n",
              " 'akthar': 790,\n",
              " 'khawla': 791,\n",
              " 'ain': 792,\n",
              " 'dar': 793,\n",
              " 'monsieur': 794,\n",
              " 'weldik': 795,\n",
              " 'boy': 796,\n",
              " 'kalek': 797,\n",
              " 'aalem': 798,\n",
              " 'deja': 799,\n",
              " 'ani': 800,\n",
              " 'beki': 801,\n",
              " 'choufou': 802,\n",
              " 'avant': 803,\n",
              " 'ejamaia': 804,\n",
              " 'bledi': 805,\n",
              " 'akahaw': 806,\n",
              " 'wena': 807,\n",
              " 'mkachakh': 808,\n",
              " 'hhapy': 809,\n",
              " 'aniversaire': 810,\n",
              " 'hmd': 811,\n",
              " 'twa': 812,\n",
              " 'nchouf': 813,\n",
              " 'officiel': 814,\n",
              " 'enou': 815,\n",
              " 'hhata': 816,\n",
              " 'yatik': 817,\n",
              " 'ehna': 818,\n",
              " 'mezel': 819,\n",
              " 'yarhamha': 820,\n",
              " 'are': 821,\n",
              " 'anti': 822,\n",
              " 'waket': 823,\n",
              " 'mabrok': 824,\n",
              " 'travailer': 825,\n",
              " 'salem': 826,\n",
              " 'wili': 827,\n",
              " 'hlowa': 828,\n",
              " 'nar': 829,\n",
              " 'barnemej': 830,\n",
              " 'ghneya': 831,\n",
              " 'bureau': 832,\n",
              " 'for': 833,\n",
              " 'yonsrek': 834,\n",
              " 'bledna': 835,\n",
              " 'chway': 836,\n",
              " 'wahdou': 837,\n",
              " 'maya': 838,\n",
              " 'rebi': 839,\n",
              " 'mridh': 840,\n",
              " 'ataw': 841,\n",
              " 'ely': 842,\n",
              " 'aidkom': 843,\n",
              " 'machroua': 844,\n",
              " 'note': 845,\n",
              " 'kaadin': 846,\n",
              " 'b10': 847,\n",
              " 'makech': 848,\n",
              " 'andek': 849,\n",
              " 'okhrej': 850,\n",
              " 'yarhmek': 851,\n",
              " 'waktha': 852,\n",
              " 'maakoul': 853,\n",
              " 'yarjaa': 854,\n",
              " 'met': 855,\n",
              " 'leklem': 856,\n",
              " 'khab': 857,\n",
              " 'zada': 858,\n",
              " 'idara': 859,\n",
              " 'hamdi': 860,\n",
              " 'riehi': 861,\n",
              " 'mezyena': 862,\n",
              " 'tefhem': 863,\n",
              " 'death': 864,\n",
              " 'hom': 865,\n",
              " 'amel': 866,\n",
              " 'yeziw': 867,\n",
              " 'labed': 868,\n",
              " 'nos': 869,\n",
              " 'koli': 870,\n",
              " 'yahya': 871,\n",
              " 'mal': 872,\n",
              " 'flousou': 873,\n",
              " 'intikhabet': 874,\n",
              " 'point': 875,\n",
              " 'ykoul': 876,\n",
              " 'rouhi': 877,\n",
              " 'deyma': 878,\n",
              " 'kharej': 879,\n",
              " 'msg': 880,\n",
              " 'taamlou': 881,\n",
              " 'sousa': 882,\n",
              " 'rien': 883,\n",
              " 'aomrou': 884,\n",
              " 'tnik': 885,\n",
              " 'rajiaoun': 886,\n",
              " 'zab': 887,\n",
              " 'bad': 888,\n",
              " 'saison': 889,\n",
              " 'maaha': 890,\n",
              " 'plz': 891,\n",
              " 'batal': 892,\n",
              " 'aan': 893,\n",
              " 'saib': 894,\n",
              " 'alahou': 895,\n",
              " 'raha': 896,\n",
              " 'sorek': 897,\n",
              " 'mchit': 898,\n",
              " 'tit': 899,\n",
              " 'jay': 900,\n",
              " 'nahi': 901,\n",
              " 'sidek': 902,\n",
              " 'machi': 903,\n",
              " 'moins': 904,\n",
              " 'rayou': 905,\n",
              " 'aomri': 906,\n",
              " 'kalo': 907,\n",
              " 'lfriki': 908,\n",
              " 'montasar': 909,\n",
              " 'mafama': 910,\n",
              " 'samahni': 911,\n",
              " 'andou': 912,\n",
              " 'chnwa': 913,\n",
              " 'hani': 914,\n",
              " 'bkodret': 915,\n",
              " 'baid': 916,\n",
              " 'yaatikom': 917,\n",
              " 'hat': 918,\n",
              " 'faha': 919,\n",
              " 'lkhir': 920,\n",
              " 'minhom': 921,\n",
              " 'chalah': 922,\n",
              " 'wenchalah': 923,\n",
              " 'zawali': 924,\n",
              " 'meskin': 925,\n",
              " 'zantour': 926,\n",
              " 'ahmed': 927,\n",
              " 'kel': 928,\n",
              " 'retour': 929,\n",
              " 'kolkom': 930,\n",
              " 'tartour': 931,\n",
              " 'eryahi': 932,\n",
              " 'lkolna': 933,\n",
              " 'yched': 934,\n",
              " 'mesage': 935,\n",
              " 'hhhhhhhhhhhhhhh': 936,\n",
              " 'rasek': 937,\n",
              " 'moi': 938,\n",
              " 'maalém': 939,\n",
              " 'chmeta': 940,\n",
              " 'yed': 941,\n",
              " 'aalih': 942,\n",
              " 'omik': 943,\n",
              " 'mlih': 944,\n",
              " 'aamla': 945,\n",
              " 'heda': 946,\n",
              " 'martou': 947,\n",
              " 'son': 948,\n",
              " 'aando': 949,\n",
              " 'rjal': 950,\n",
              " 'minha': 951,\n",
              " 'kemla': 952,\n",
              " 'bnet': 953,\n",
              " 'bent': 954,\n",
              " 'likom': 955,\n",
              " 'aandhom': 956,\n",
              " 'wila': 957,\n",
              " 'kh0': 958,\n",
              " 'nkolek': 959,\n",
              " 'salouma': 960,\n",
              " 'bouzid': 961,\n",
              " 'talka': 962,\n",
              " 'elkhir': 963,\n",
              " 'zaweli': 964,\n",
              " 'sans': 965,\n",
              " 'khayeb': 966,\n",
              " 'fehri': 967,\n",
              " 'faut': 968,\n",
              " 'mena': 969,\n",
              " 'chapeau': 970,\n",
              " 'rwehkom': 971,\n",
              " 'hhmd': 972,\n",
              " 'ghoul': 973,\n",
              " 'mout': 974,\n",
              " 'zgaw': 975,\n",
              " 'rit': 976,\n",
              " 'nour': 977,\n",
              " 'fan': 978,\n",
              " 'halka': 979,\n",
              " 'ilayhi': 980,\n",
              " 'idha': 981,\n",
              " 'travail': 982,\n",
              " 'rachwa': 983,\n",
              " 'naamlou': 984,\n",
              " 'mariem': 985,\n",
              " 'ghalya': 986,\n",
              " 'manel': 987,\n",
              " 'wra': 988,\n",
              " 'klemek': 989,\n",
              " 'fekra': 990,\n",
              " 'rbi': 991,\n",
              " 'hkayet': 992,\n",
              " 'sayed': 993,\n",
              " 'chabeb': 994,\n",
              " 'chaine': 995,\n",
              " 'mis': 996,\n",
              " 'ynajem': 997,\n",
              " 'tzid': 998,\n",
              " 'medeb': 999,\n",
              " 'projet': 1000,\n",
              " ...}"
            ]
          },
          "execution_count": 34,
          "metadata": {},
          "output_type": "execute_result"
        }
      ],
      "source": [
        "word_index"
      ]
    },
    {
      "cell_type": "code",
      "execution_count": null,
      "id": "ZzdnUWMS6zh6",
      "metadata": {
        "id": "ZzdnUWMS6zh6"
      },
      "outputs": [],
      "source": [
        "train_sequences = tokenizer.texts_to_sequences(aux['text'])"
      ]
    },
    {
      "cell_type": "code",
      "execution_count": null,
      "id": "P2f15s2ebuBH",
      "metadata": {
        "id": "P2f15s2ebuBH"
      },
      "outputs": [],
      "source": [
        "train_data = pad_sequences(train_sequences, maxlen=max_length,)"
      ]
    },
    {
      "cell_type": "code",
      "execution_count": null,
      "id": "u8igwzUnMBFq",
      "metadata": {
        "colab": {
          "base_uri": "https://localhost:8080/"
        },
        "id": "u8igwzUnMBFq",
        "outputId": "e7d759b5-304a-49ec-f692-bb512dec27fa"
      },
      "outputs": [
        {
          "data": {
            "text/plain": [
              "array([ 0,  0,  0,  0,  0,  0,  0,  0,  0,  0,  0,  0,  0,  0,  0,  0,  0,\n",
              "        0,  0,  0,  0,  0,  0,  0,  0,  0,  0,  0,  0,  0,  0,  0,  0,  0,\n",
              "        0,  0,  0,  0,  0,  0,  0,  0,  0,  0,  0,  0,  0,  0,  0,  0,  0,\n",
              "        0,  0,  0,  0,  0,  0,  0,  0,  0,  0,  0,  0,  0,  0,  0,  0,  0,\n",
              "        0,  0,  0,  0,  0,  0,  0,  0,  0,  0,  0,  0,  0,  0,  0,  0,  0,\n",
              "        0,  0,  0,  0,  0,  0,  0,  0,  0,  0,  0,  0,  0,  0,  0,  0,  0,\n",
              "        0,  0,  0,  0,  0,  0,  0,  0,  0,  0,  0,  0,  0,  0,  0,  0,  0,\n",
              "        0,  0,  0,  0,  0,  0,  0,  0, 12], dtype=int32)"
            ]
          },
          "execution_count": 37,
          "metadata": {},
          "output_type": "execute_result"
        }
      ],
      "source": [
        "train_data[3]"
      ]
    },
    {
      "cell_type": "code",
      "execution_count": null,
      "id": "idTRSFKObcuM",
      "metadata": {
        "id": "idTRSFKObcuM"
      },
      "outputs": [],
      "source": [
        "training_label = pd.get_dummies(aux['label']).values\n",
        "\"jebna label\""
      ]
    },
    {
      "cell_type": "code",
      "execution_count": null,
      "id": "AeWgmkHhc4MY",
      "metadata": {
        "colab": {
          "base_uri": "https://localhost:8080/"
        },
        "id": "AeWgmkHhc4MY",
        "outputId": "cd4b97f3-8ac3-4167-b6a6-4522df76290c"
      },
      "outputs": [
        {
          "data": {
            "text/plain": [
              "array([0, 1], dtype=uint8)"
            ]
          },
          "execution_count": 39,
          "metadata": {},
          "output_type": "execute_result"
        }
      ],
      "source": [
        "training_label[3]"
      ]
    },
    {
      "cell_type": "code",
      "execution_count": null,
      "id": "uFyHC4YKc5bQ",
      "metadata": {
        "colab": {
          "base_uri": "https://localhost:8080/"
        },
        "id": "uFyHC4YKc5bQ",
        "outputId": "630d308a-eaca-4c44-88a9-1c197932660c"
      },
      "outputs": [
        {
          "name": "stdout",
          "output_type": "stream",
          "text": [
            "(54027, 128) (54027, 2)\n",
            "(13507, 128) (13507, 2)\n"
          ]
        }
      ],
      "source": [
        "X_train, X_test, Y_train, Y_test = train_test_split(train_data,training_label, test_size = 0.20, random_state = 42)\n",
        "print(X_train.shape,Y_train.shape)\n",
        "print(X_test.shape,Y_test.shape)"
      ]
    },
    {
      "cell_type": "code",
      "execution_count": null,
      "id": "FJI6iaaCKaP7",
      "metadata": {
        "id": "FJI6iaaCKaP7"
      },
      "outputs": [],
      "source": [
        "from keras import backend as K\n",
        "\n",
        "def recall_(y_true, y_pred):\n",
        "    true_positives = K.sum(K.round(K.clip(y_true * y_pred, 0, 1)))\n",
        "    possible_positives = K.sum(K.round(K.clip(y_true, 0, 1)))\n",
        "    recall = true_positives / (possible_positives + K.epsilon())\n",
        "    return recall\n",
        "\n",
        "def precision_(y_true, y_pred):\n",
        "    true_positives = K.sum(K.round(K.clip(y_true * y_pred, 0, 1)))\n",
        "    predicted_positives = K.sum(K.round(K.clip(y_pred, 0, 1)))\n",
        "    precision = true_positives / (predicted_positives + K.epsilon())\n",
        "    return precision\n",
        "\n",
        "def f1_score(y_true, y_pred):\n",
        "    precision = precision_(y_true, y_pred)\n",
        "    recall = recall_(y_true, y_pred)\n",
        "    return 2*((precision*recall)/(precision+recall+K.epsilon()))"
      ]
    },
    {
      "cell_type": "code",
      "execution_count": null,
      "id": "-kzp1WJwhR-J",
      "metadata": {
        "colab": {
          "base_uri": "https://localhost:8080/"
        },
        "id": "-kzp1WJwhR-J",
        "outputId": "be7417c1-45aa-4d80-9b40-0f41a497b660"
      },
      "outputs": [
        {
          "name": "stdout",
          "output_type": "stream",
          "text": [
            "Model: \"sequential\"\n",
            "_________________________________________________________________\n",
            " Layer (type)                Output Shape              Param #   \n",
            "=================================================================\n",
            " embedding (Embedding)       (None, 128, 64)           192000    \n",
            "                                                                 \n",
            " spatial_dropout1d (SpatialD  (None, 128, 64)          0         \n",
            " ropout1D)                                                       \n",
            "                                                                 \n",
            " bidirectional (Bidirectiona  (None, 128)              66048     \n",
            " l)                                                              \n",
            "                                                                 \n",
            " dense (Dense)               (None, 2)                 258       \n",
            "                                                                 \n",
            "=================================================================\n",
            "Total params: 258,306\n",
            "Trainable params: 258,306\n",
            "Non-trainable params: 0\n",
            "_________________________________________________________________\n"
          ]
        }
      ],
      "source": [
        "model = Sequential()\n",
        "model.add(Embedding(feautres,embedding_dim ,input_length=max_length))\n",
        "model.add(SpatialDropout1D(0.3))\n",
        "model.add(Bidirectional(LSTM(embedding_dim)))\n",
        "model.add(Dense(2,activation='softmax' ))\n",
        "model.summary()"
      ]
    },
    {
      "cell_type": "code",
      "execution_count": null,
      "id": "tCKYJE7Fq8f2",
      "metadata": {
        "id": "tCKYJE7Fq8f2"
      },
      "outputs": [],
      "source": [
        "model.compile(loss='binary_crossentropy', optimizer='Adam', metrics=['Accuracy',recall_,precison_,f1_score])"
      ]
    },
    {
      "cell_type": "code",
      "execution_count": null,
      "id": "uhQ3FAIxq8dR",
      "metadata": {
        "colab": {
          "base_uri": "https://localhost:8080/"
        },
        "id": "uhQ3FAIxq8dR",
        "outputId": "8c503c35-4545-417d-b794-2e3740e115a1"
      },
      "outputs": [
        {
          "name": "stdout",
          "output_type": "stream",
          "text": [
            "Epoch 1/3\n",
            "338/338 - 24s - loss: 0.4958 - Accuracy: 0.7457 - f1_score: 0.7458 - precision_: 0.7458 - recall_: 0.7458 - val_loss: 0.4061 - val_Accuracy: 0.8080 - val_f1_score: 0.8084 - val_precision_: 0.8084 - val_recall_: 0.8084 - 24s/epoch - 72ms/step\n",
            "Epoch 2/3\n",
            "338/338 - 7s - loss: 0.3868 - Accuracy: 0.8183 - f1_score: 0.8183 - precision_: 0.8183 - recall_: 0.8183 - val_loss: 0.3956 - val_Accuracy: 0.8103 - val_f1_score: 0.8111 - val_precision_: 0.8111 - val_recall_: 0.8111 - 7s/epoch - 20ms/step\n",
            "Epoch 3/3\n",
            "338/338 - 7s - loss: 0.3667 - Accuracy: 0.8256 - f1_score: 0.8257 - precision_: 0.8257 - recall_: 0.8257 - val_loss: 0.3882 - val_Accuracy: 0.8146 - val_f1_score: 0.8148 - val_precision_: 0.8148 - val_recall_: 0.8148 - 7s/epoch - 20ms/step\n"
          ]
        }
      ],
      "source": [
        "history =model.fit(X_train, Y_train, epochs = 3, batch_size=128, validation_split=0.2,verbose=2)#3malna accuracy f1_score recall precision"
      ]
    },
    {
      "cell_type": "code",
      "execution_count": null,
      "id": "Lzz3IfYftzL1",
      "metadata": {
        "colab": {
          "base_uri": "https://localhost:8080/",
          "height": 295
        },
        "id": "Lzz3IfYftzL1",
        "outputId": "e77513d3-f12d-460f-81fd-7ff212051781"
      },
      "outputs": [
        {
          "data": {
            "image/png": "[encoded data removed]",
            "text/plain": [
              "<Figure size 432x288 with 1 Axes>"
            ]
          },
          "metadata": {
            "needs_background": "light"
          },
          "output_type": "display_data"
        }
      ],
      "source": [
        "import matplotlib.pyplot as plt\n",
        "\n",
        "plt.plot(history.history['Accuracy'])\n",
        "plt.plot(history.history['val_Accuracy'])\n",
        "\n",
        "plt.title('model accuracy')\n",
        "plt.ylabel('accuracy')\n",
        "plt.xlabel('epoch')\n",
        "plt.legend(['train','validation'], loc='upper left')\n",
        "plt.show()\n"
      ]
    },
    {
      "cell_type": "code",
      "execution_count": null,
      "id": "FkCGDLscuL1z",
      "metadata": {
        "colab": {
          "base_uri": "https://localhost:8080/",
          "height": 295
        },
        "id": "FkCGDLscuL1z",
        "outputId": "2b79babe-31d7-4b4c-d1a7-cd8ea39c8aa9"
      },
      "outputs": [
        {
          "data": {
            "image/png": "[encoded data removed]",
            "text/plain": [
              "<Figure size 432x288 with 1 Axes>"
            ]
          },
          "metadata": {
            "needs_background": "light"
          },
          "output_type": "display_data"
        }
      ],
      "source": [
        "plt.plot(history.history['loss'])\n",
        "plt.plot(history.history['val_loss'])\n",
        "\n",
        "plt.title('model loss')\n",
        "plt.ylabel('loss')\n",
        "plt.xlabel('epoch')\n",
        "plt.legend(['train','validation'], loc='upper left')\n",
        "plt.show()"
      ]
    },
    {
      "cell_type": "code",
      "execution_count": null,
      "id": "Yc3AfsLtq8aO",
      "metadata": {
        "colab": {
          "base_uri": "https://localhost:8080/"
        },
        "id": "Yc3AfsLtq8aO",
        "outputId": "21fcbeb2-fee4-4269-919f-3146e2a198a2"
      },
      "outputs": [
        {
          "name": "stdout",
          "output_type": "stream",
          "text": [
            "423/423 [==============================] - 3s 7ms/step - loss: 0.3978 - Accuracy: 0.8134 - f1_score: 0.8138 - precision_: 0.8138 - recall_: 0.8138\n",
            "loss: 0.3978314697742462\n",
            "Test Accuracy: 0.8134300708770752\n",
            "f1score:  0.8138297200202942\n",
            "percision:  0.813829779624939\n",
            "recall:  0.813829779624939\n"
          ]
        }
      ],
      "source": [
        "score = model.evaluate(X_test, Y_test, verbose=1)\n",
        "\n",
        "print(\"loss:\", score[0])\n",
        "print(\"Test Accuracy:\", score[1])\n",
        "print(\"recall: \", score[2])\n",
        "print(\"percision: \", score[3])\n",
        "print(\"f1score: \", score[4])\n",
        "#testina bel exemple hay resultat najmou nzidouha fel etude comparati"
      ]
    },
    {
      "cell_type": "code",
      "execution_count": null,
      "id": "o4HI0mbiyFDl",
      "metadata": {
        "id": "o4HI0mbiyFDl"
      },
      "outputs": [],
      "source": [
        "def predict(data):\n",
        "  data = tokenizer.texts_to_sequences(data)\n",
        "  data = pad_sequences(data, maxlen=128)\n",
        "  predic = model.predict(data,batch_size=1)\n",
        "  labels_t = ['Negative','Positive'] \n",
        "  print(labels_t[np.argmax(predic)])"
      ]
    },
    {
      "cell_type": "code",
      "execution_count": null,
      "id": "iCd2eyoQ1cfr",
      "metadata": {
        "colab": {
          "base_uri": "https://localhost:8080/"
        },
        "id": "iCd2eyoQ1cfr",
        "outputId": "a1ae7cf2-3070-4e78-bfe9-7befcffca946"
      },
      "outputs": [
        {
          "name": "stdout",
          "output_type": "stream",
          "text": [
            "Positive\n"
          ]
        }
      ],
      "source": [
        "data=['mahleeek nheeebek barcha']\n",
        "predict(data)"
      ]
    },
    {
      "cell_type": "code",
      "execution_count": null,
      "id": "wrJDYISTrPGp",
      "metadata": {
        "colab": {
          "base_uri": "https://localhost:8080/"
        },
        "id": "wrJDYISTrPGp",
        "outputId": "29495b87-a7d8-4519-8214-be609def4fce"
      },
      "outputs": [
        {
          "name": "stdout",
          "output_type": "stream",
          "text": [
            "Negative\n"
          ]
        }
      ],
      "source": [
        "data=['ye kaleb ye sa9et']\n",
        "predict(data)"
      ]
    },
    {
      "cell_type": "code",
      "execution_count": null,
      "id": "9R7cJrD8ybxr",
      "metadata": {
        "id": "9R7cJrD8ybxr"
      },
      "outputs": [],
      "source": [
        "test_data = tokenizer.texts_to_sequences(test['text'])\n",
        "test_data = pad_sequences(test_data, maxlen=128)\n",
        "pred = model.predict(test_data,batch_size = 128)\n"
      ]
    },
    {
      "cell_type": "code",
      "execution_count": null,
      "id": "PMxOPMDv52l0",
      "metadata": {
        "id": "PMxOPMDv52l0"
      },
      "outputs": [],
      "source": [
        "test_data = test['text']\n",
        "test_id = test['ID']\n",
        "\n",
        "data_test = pd.DataFrame(data = {'id' : test_id ,'text': test['text'], 'negative' : pred[:,0] ,'Positive' : pred[:,1]  })"
      ]
    },
    {
      "cell_type": "code",
      "execution_count": null,
      "id": "nlEGvRsx7M7u",
      "metadata": {
        "colab": {
          "base_uri": "https://localhost:8080/",
          "height": 424
        },
        "id": "nlEGvRsx7M7u",
        "outputId": "c220a896-6b63-4cdc-9d10-ac67f89c0c72"
      },
      "outputs": [
        {
          "data": {
            "text/html": [
              "\n",
              "  <div id=\"df-0fceb30a-3f91-42e8-93e1-61b6c0877de4\">\n",
              "    <div class=\"colab-df-container\">\n",
              "      <div>\n",
              "<style scoped>\n",
              "    .dataframe tbody tr th:only-of-type {\n",
              "        vertical-align: middle;\n",
              "    }\n",
              "\n",
              "    .dataframe tbody tr th {\n",
              "        vertical-align: top;\n",
              "    }\n",
              "\n",
              "    .dataframe thead th {\n",
              "        text-align: right;\n",
              "    }\n",
              "</style>\n",
              "<table border=\"1\" class=\"dataframe\">\n",
              "  <thead>\n",
              "    <tr style=\"text-align: right;\">\n",
              "      <th></th>\n",
              "      <th>id</th>\n",
              "      <th>text</th>\n",
              "      <th>negative</th>\n",
              "      <th>Positive</th>\n",
              "    </tr>\n",
              "  </thead>\n",
              "  <tbody>\n",
              "    <tr>\n",
              "      <th>0</th>\n",
              "      <td>2DDHQW9</td>\n",
              "      <td>barcha aaindou fiha hak w barcha teflim kadhalik</td>\n",
              "      <td>0.399535</td>\n",
              "      <td>0.600465</td>\n",
              "    </tr>\n",
              "    <tr>\n",
              "      <th>1</th>\n",
              "      <td>5HY6UEY</td>\n",
              "      <td>ye gernabou ye kahba</td>\n",
              "      <td>0.998788</td>\n",
              "      <td>0.001212</td>\n",
              "    </tr>\n",
              "    <tr>\n",
              "      <th>2</th>\n",
              "      <td>ATNVUJX</td>\n",
              "      <td>saber w barra rabbi maak khouya</td>\n",
              "      <td>0.001691</td>\n",
              "      <td>0.998309</td>\n",
              "    </tr>\n",
              "    <tr>\n",
              "      <th>3</th>\n",
              "      <td>Q9XYVOQ</td>\n",
              "      <td>chaaébbb tahaaaaannnnnnnnnnn tfouuhh</td>\n",
              "      <td>0.705144</td>\n",
              "      <td>0.294856</td>\n",
              "    </tr>\n",
              "    <tr>\n",
              "      <th>4</th>\n",
              "      <td>TOAHLRH</td>\n",
              "      <td>rabi ykhalihoulek w yfarhek bih w inchallah it...</td>\n",
              "      <td>0.322834</td>\n",
              "      <td>0.677166</td>\n",
              "    </tr>\n",
              "    <tr>\n",
              "      <th>...</th>\n",
              "      <td>...</td>\n",
              "      <td>...</td>\n",
              "      <td>...</td>\n",
              "      <td>...</td>\n",
              "    </tr>\n",
              "    <tr>\n",
              "      <th>29995</th>\n",
              "      <td>NHXTL3R</td>\n",
              "      <td>me ihebekch raw</td>\n",
              "      <td>0.633787</td>\n",
              "      <td>0.366213</td>\n",
              "    </tr>\n",
              "    <tr>\n",
              "      <th>29996</th>\n",
              "      <td>U1YWB2O</td>\n",
              "      <td>nchallah rabi maak w iwafkek mais just habit n...</td>\n",
              "      <td>0.004203</td>\n",
              "      <td>0.995797</td>\n",
              "    </tr>\n",
              "    <tr>\n",
              "      <th>29997</th>\n",
              "      <td>O3KYLM0</td>\n",
              "      <td>slim rabi maak w ekhedem w khalli lhossed lemn...</td>\n",
              "      <td>0.220179</td>\n",
              "      <td>0.779821</td>\n",
              "    </tr>\n",
              "    <tr>\n",
              "      <th>29998</th>\n",
              "      <td>W4C38TY</td>\n",
              "      <td>bara khalis rouhik yizi mitbalait jamaiya hlak...</td>\n",
              "      <td>0.987331</td>\n",
              "      <td>0.012669</td>\n",
              "    </tr>\n",
              "    <tr>\n",
              "      <th>29999</th>\n",
              "      <td>4NNX5QE</td>\n",
              "      <td>rabi maaaaak ya khawlaaa nhebouuuuk rana barsh...</td>\n",
              "      <td>0.031063</td>\n",
              "      <td>0.968937</td>\n",
              "    </tr>\n",
              "  </tbody>\n",
              "</table>\n",
              "<p>30000 rows × 4 columns</p>\n",
              "</div>\n",
              "      <button class=\"colab-df-convert\" onclick=\"convertToInteractive('df-0fceb30a-3f91-42e8-93e1-61b6c0877de4')\"\n",
              "              title=\"Convert this dataframe to an interactive table.\"\n",
              "              style=\"display:none;\">\n",
              "        \n",
              "  <svg xmlns=\"http://www.w3.org/2000/svg\" height=\"24px\"viewBox=\"0 0 24 24\"\n",
              "       width=\"24px\">\n",
              "    <path d=\"M0 0h24v24H0V0z\" fill=\"none\"/>\n",
              "    <path d=\"M18.56 5.44l.94 2.06.94-2.06 2.06-.94-2.06-.94-.94-2.06-.94 2.06-2.06.94zm-11 1L8.5 8.5l.94-2.06 2.06-.94-2.06-.94L8.5 2.5l-.94 2.06-2.06.94zm10 10l.94 2.06.94-2.06 2.06-.94-2.06-.94-.94-2.06-.94 2.06-2.06.94z\"/><path d=\"M17.41 7.96l-1.37-1.37c-.4-.4-.92-.59-1.43-.59-.52 0-1.04.2-1.43.59L10.3 9.45l-7.72 7.72c-.78.78-.78 2.05 0 2.83L4 21.41c.39.39.9.59 1.41.59.51 0 1.02-.2 1.41-.59l7.78-7.78 2.81-2.81c.8-.78.8-2.07 0-2.86zM5.41 20L4 18.59l7.72-7.72 1.47 1.35L5.41 20z\"/>\n",
              "  </svg>\n",
              "      </button>\n",
              "      \n",
              "  <style>\n",
              "    .colab-df-container {\n",
              "      display:flex;\n",
              "      flex-wrap:wrap;\n",
              "      gap: 12px;\n",
              "    }\n",
              "\n",
              "    .colab-df-convert {\n",
              "      background-color: #E8F0FE;\n",
              "      border: none;\n",
              "      border-radius: 50%;\n",
              "      cursor: pointer;\n",
              "      display: none;\n",
              "      fill: #1967D2;\n",
              "      height: 32px;\n",
              "      padding: 0 0 0 0;\n",
              "      width: 32px;\n",
              "    }\n",
              "\n",
              "    .colab-df-convert:hover {\n",
              "      background-color: #E2EBFA;\n",
              "      box-shadow: 0px 1px 2px rgba(60, 64, 67, 0.3), 0px 1px 3px 1px rgba(60, 64, 67, 0.15);\n",
              "      fill: #174EA6;\n",
              "    }\n",
              "\n",
              "    [theme=dark] .colab-df-convert {\n",
              "      background-color: #3B4455;\n",
              "      fill: #D2E3FC;\n",
              "    }\n",
              "\n",
              "    [theme=dark] .colab-df-convert:hover {\n",
              "      background-color: #434B5C;\n",
              "      box-shadow: 0px 1px 3px 1px rgba(0, 0, 0, 0.15);\n",
              "      filter: drop-shadow(0px 1px 2px rgba(0, 0, 0, 0.3));\n",
              "      fill: #FFFFFF;\n",
              "    }\n",
              "  </style>\n",
              "\n",
              "      <script>\n",
              "        const buttonEl =\n",
              "          document.querySelector('#df-0fceb30a-3f91-42e8-93e1-61b6c0877de4 button.colab-df-convert');\n",
              "        buttonEl.style.display =\n",
              "          google.colab.kernel.accessAllowed ? 'block' : 'none';\n",
              "\n",
              "        async function convertToInteractive(key) {\n",
              "          const element = document.querySelector('#df-0fceb30a-3f91-42e8-93e1-61b6c0877de4');\n",
              "          const dataTable =\n",
              "            await google.colab.kernel.invokeFunction('convertToInteractive',\n",
              "                                                     [key], {});\n",
              "          if (!dataTable) return;\n",
              "\n",
              "          const docLinkHtml = 'Like what you see? Visit the ' +\n",
              "            '<a target=\"_blank\" href=https://colab.research.google.com/notebooks/data_table.ipynb>data table notebook</a>'\n",
              "            + ' to learn more about interactive tables.';\n",
              "          element.innerHTML = '';\n",
              "          dataTable['output_type'] = 'display_data';\n",
              "          await google.colab.output.renderOutput(dataTable, element);\n",
              "          const docLink = document.createElement('div');\n",
              "          docLink.innerHTML = docLinkHtml;\n",
              "          element.appendChild(docLink);\n",
              "        }\n",
              "      </script>\n",
              "    </div>\n",
              "  </div>\n",
              "  "
            ],
            "text/plain": [
              "            id                                               text  negative  \\\n",
              "0      2DDHQW9   barcha aaindou fiha hak w barcha teflim kadhalik  0.399535   \n",
              "1      5HY6UEY                               ye gernabou ye kahba  0.998788   \n",
              "2      ATNVUJX                    saber w barra rabbi maak khouya  0.001691   \n",
              "3      Q9XYVOQ               chaaébbb tahaaaaannnnnnnnnnn tfouuhh  0.705144   \n",
              "4      TOAHLRH  rabi ykhalihoulek w yfarhek bih w inchallah it...  0.322834   \n",
              "...        ...                                                ...       ...   \n",
              "29995  NHXTL3R                                    me ihebekch raw  0.633787   \n",
              "29996  U1YWB2O  nchallah rabi maak w iwafkek mais just habit n...  0.004203   \n",
              "29997  O3KYLM0  slim rabi maak w ekhedem w khalli lhossed lemn...  0.220179   \n",
              "29998  W4C38TY  bara khalis rouhik yizi mitbalait jamaiya hlak...  0.987331   \n",
              "29999  4NNX5QE  rabi maaaaak ya khawlaaa nhebouuuuk rana barsh...  0.031063   \n",
              "\n",
              "       Positive  \n",
              "0      0.600465  \n",
              "1      0.001212  \n",
              "2      0.998309  \n",
              "3      0.294856  \n",
              "4      0.677166  \n",
              "...         ...  \n",
              "29995  0.366213  \n",
              "29996  0.995797  \n",
              "29997  0.779821  \n",
              "29998  0.012669  \n",
              "29999  0.968937  \n",
              "\n",
              "[30000 rows x 4 columns]"
            ]
          },
          "execution_count": 55,
          "metadata": {},
          "output_type": "execute_result"
        }
      ],
      "source": [
        "data_test"
      ]
    },
    {
      "cell_type": "code",
      "execution_count": null,
      "id": "pawqFN_3Sg-o",
      "metadata": {
        "id": "pawqFN_3Sg-o"
      },
      "outputs": [],
      "source": [
        "import pickle\n",
        "with open('pcdtunizibert_pkl.pkl', 'wb') as files:\n",
        "    pickle.dump(, files)"
      ]
    },
    {
      "cell_type": "code",
      "execution_count": null,
      "id": "VYexwGPVb6Mb",
      "metadata": {
        "id": "VYexwGPVb6Mb"
      },
      "outputs": [],
      "source": []
    }
  ],
  "metadata": {
    "accelerator": "GPU",
    "colab": {
      "collapsed_sections": [],
      "name": "PCD_LSTM.ipynb",
      "provenance": []
    },
    "kernelspec": {
      "display_name": "Python 3",
      "language": "python",
      "name": "python3"
    },
    "language_info": {
      "codemirror_mode": {
        "name": "ipython",
        "version": 3
      },
      "file_extension": ".py",
      "mimetype": "text/x-python",
      "name": "python",
      "nbconvert_exporter": "python",
      "pygments_lexer": "ipython3",
      "version": "3.8.5"
    }
  },
  "nbformat": 4,
  "nbformat_minor": 5
}
